{
 "cells": [
  {
   "cell_type": "markdown",
   "metadata": {},
   "source": [
    "### Analyzing the Stroop Effect\n",
    "Perform the analysis in the space below. Remember to follow [the instructions](https://docs.google.com/document/d/1-OkpZLjG_kX9J6LIQ5IltsqMzVWjh36QpnP2RYpVdPU/pub?embedded=True) and review the [project rubric](https://review.udacity.com/#!/rubrics/71/view) before submitting. Once you've completed the analysis and write-up, download this file as a PDF or HTML file, upload that PDF/HTML into the workspace here (click on the orange Jupyter icon in the upper left then Upload), then use the Submit Project button at the bottom of this page. This will create a zip file containing both this .ipynb doc and the PDF/HTML doc that will be submitted for your project.\n"
   ]
  },
  {
   "cell_type": "markdown",
   "metadata": {},
   "source": [
    "(1) What is the independent variable? What is the dependent variable?"
   ]
  },
  {
   "cell_type": "markdown",
   "metadata": {},
   "source": [
    "Independent Variable - Words condition either congruent or incongruent.\n",
    "\n",
    "Dependent Variable - the response time to complete the test."
   ]
  },
  {
   "cell_type": "markdown",
   "metadata": {},
   "source": [
    "(2) What is an appropriate set of hypotheses for this task? Specify your null and alternative hypotheses, and clearly define any notation used. Justify your choices."
   ]
  },
  {
   "cell_type": "markdown",
   "metadata": {},
   "source": [
    "Hypothesis Test \n",
    "\n",
    "H0 - The Null Hypothesis (μc ≥ μi). The average time to name the colour of the ink the words printed for congruent words should be equal to or greater than the average time for incongruent words.   \n",
    "\n",
    "Ha - The Alternative Hypothesis (μc < μi). The average time for congruent words is less than the average time for incongruent words. \n",
    "\n",
    "\n",
    "\n",
    "H0: μc ≥ μi - population mean for congruent words equal to or greater than the population mean for incongruent words. \n",
    "\n",
    "Ha: μc < μi - population mean for congruent words less than population mean for incongruent words. \n",
    "\n",
    "\n",
    "Dependent Samples t-test\n",
    "\n",
    "-require to compare the average time to name the colour of the inks for congruent and incongruent words and to have enough evidence to determine the hypothesis that congruent words is less than incongruent words.     \n",
    "\n",
    "-the sample size is less than 30 so a t-test is statistically appropriate as the population parameter is not known, therefore, a z-test can not be performed here.\n"
   ]
  },
  {
   "cell_type": "markdown",
   "metadata": {},
   "source": [
    "(3) Report some descriptive statistics regarding this dataset. Include at least one measure of central tendency and at least one measure of variability. The name of the data file is 'stroopdata.csv'."
   ]
  },
  {
   "cell_type": "code",
   "execution_count": 2,
   "metadata": {},
   "outputs": [],
   "source": [
    "import pandas as pd\n",
    "import numpy as np\n",
    "from scipy import stats\n",
    "from scipy.stats import t\n",
    "import scipy.stats \n",
    "import matplotlib.pyplot as plt\n",
    "import seaborn as sns\n",
    "import math\n",
    "%matplotlib inline\n",
    "import warnings\n",
    "warnings.filterwarnings('ignore')"
   ]
  },
  {
   "cell_type": "code",
   "execution_count": 3,
   "metadata": {},
   "outputs": [
    {
     "name": "stdout",
     "output_type": "stream",
     "text": [
      "    Congruent  Incongruent\n",
      "0      12.079       19.278\n",
      "1      16.791       18.741\n",
      "2       9.564       21.214\n",
      "3       8.630       15.687\n",
      "4      14.669       22.803\n",
      "5      12.238       20.878\n",
      "6      14.692       24.572\n",
      "7       8.987       17.394\n",
      "8       9.401       20.762\n",
      "9      14.480       26.282\n",
      "10     22.328       24.524\n",
      "11     15.298       18.644\n",
      "12     15.073       17.510\n",
      "13     16.929       20.330\n",
      "14     18.200       35.255\n",
      "15     12.130       22.158\n",
      "16     18.495       25.139\n",
      "17     10.639       20.429\n",
      "18     11.344       17.425\n",
      "19     12.369       34.288\n",
      "20     12.944       23.894\n",
      "21     14.233       17.960\n",
      "22     19.710       22.058\n",
      "23     16.004       21.157\n"
     ]
    }
   ],
   "source": [
    "df = pd.read_csv('stroopdata.csv')\n",
    "print(df)"
   ]
  },
  {
   "cell_type": "code",
   "execution_count": 4,
   "metadata": {},
   "outputs": [
    {
     "name": "stdout",
     "output_type": "stream",
     "text": [
      "Mean\n",
      "Congruent      14.05\n",
      "Incongruent    22.02\n",
      "dtype: float64\n"
     ]
    }
   ],
   "source": [
    "print('Mean') \n",
    "\n",
    "print(round(df.mean(),2))"
   ]
  },
  {
   "cell_type": "code",
   "execution_count": 5,
   "metadata": {},
   "outputs": [
    {
     "name": "stdout",
     "output_type": "stream",
     "text": [
      "Standard Deviation\n",
      "Congruent      3.56\n",
      "Incongruent    4.80\n",
      "dtype: float64\n"
     ]
    }
   ],
   "source": [
    "print('Standard Deviation')\n",
    "\n",
    "print(round(df.std(),2))"
   ]
  },
  {
   "cell_type": "code",
   "execution_count": 6,
   "metadata": {},
   "outputs": [
    {
     "name": "stdout",
     "output_type": "stream",
     "text": [
      "Standard Error for Congruent Variable\n",
      "0.73\n"
     ]
    }
   ],
   "source": [
    "print('Standard Error for Congruent Variable')\n",
    "SE_c = round(stats.sem(df.iloc[:,0]),2)\n",
    "print(SE_c)"
   ]
  },
  {
   "cell_type": "code",
   "execution_count": 7,
   "metadata": {},
   "outputs": [
    {
     "name": "stdout",
     "output_type": "stream",
     "text": [
      "Standard Error for Incongruent Variable\n",
      "0.98\n"
     ]
    }
   ],
   "source": [
    "print('Standard Error for Incongruent Variable')\n",
    "SE_i = round(stats.sem(df.iloc[:,1]),2)\n",
    "print(SE_i)"
   ]
  },
  {
   "cell_type": "markdown",
   "metadata": {},
   "source": [
    "(4) Provide one or two visualizations that show the distribution of the sample data. Write one or two sentences noting what you observe about the plot or plots."
   ]
  },
  {
   "cell_type": "code",
   "execution_count": 8,
   "metadata": {},
   "outputs": [
    {
     "data": {
      "image/png": "[encoded data removed]",
      "text/plain": [
       "<Figure size 432x288 with 2 Axes>"
      ]
     },
     "metadata": {},
     "output_type": "display_data"
    }
   ],
   "source": [
    "plt.subplot(1,2,1)\n",
    "sns.distplot(df['Congruent'], color='r')\n",
    "plt.subplot(1,2,2)\n",
    "sns.distplot(df['Incongruent'], color='g')\n",
    "plt.tight_layout()\n",
    "plt.show()\n"
   ]
  },
  {
   "cell_type": "code",
   "execution_count": 36,
   "metadata": {},
   "outputs": [
    {
     "data": {
      "image/png": "[encoded data removed]",
      "text/plain": [
       "<Figure size 432x288 with 2 Axes>"
      ]
     },
     "metadata": {},
     "output_type": "display_data"
    }
   ],
   "source": [
    "plt.subplot(1,2,1)\n",
    "sns.boxplot(data=df, y='Congruent', color='r')\n",
    "\n",
    "plt.subplot(1,2,2)\n",
    "\n",
    "sns.boxplot(data=df, y='Incongruent', color='g')\n",
    "\n",
    "plt.tight_layout()\n",
    "plt.show()"
   ]
  },
  {
   "cell_type": "markdown",
   "metadata": {},
   "source": [
    "The plot for Congruent words distribution is between 8 and 23 seconds plus the average response time completing the test is lower than the Incongruent words distribution which is between 15 and 27 seconds with an outlier of 34 seconds.      "
   ]
  },
  {
   "cell_type": "markdown",
   "metadata": {},
   "source": [
    "(5)  Now, perform the statistical test and report your results. What is your confidence level or Type I error associated with your test? What is your conclusion regarding the hypotheses you set up? Did the results match up with your expectations? **Hint:**  Think about what is being measured on each individual, and what statistic best captures how an individual reacts in each environment."
   ]
  },
  {
   "cell_type": "code",
   "execution_count": 9,
   "metadata": {},
   "outputs": [
    {
     "name": "stdout",
     "output_type": "stream",
     "text": [
      "Sample Size\n",
      "24\n"
     ]
    }
   ],
   "source": [
    "print('Sample Size') \n",
    "\n",
    "n = len(df)\n",
    "print(n)"
   ]
  },
  {
   "cell_type": "code",
   "execution_count": 10,
   "metadata": {},
   "outputs": [
    {
     "name": "stdout",
     "output_type": "stream",
     "text": [
      "Degrees of Freedom\n",
      "23\n"
     ]
    }
   ],
   "source": [
    "print('Degrees of Freedom')\n",
    "print(len(df)-1)"
   ]
  },
  {
   "cell_type": "code",
   "execution_count": 35,
   "metadata": {},
   "outputs": [
    {
     "name": "stdout",
     "output_type": "stream",
     "text": [
      "Point Estimate of the two means\n",
      "-7.964791666666665\n"
     ]
    }
   ],
   "source": [
    "print('Point Estimate of the two means')\n",
    "\n",
    "c_mean = df['Congruent'].mean()\n",
    "i_mean = df['Incongruent'].mean()\n",
    "\n",
    "pe = c_mean - i_mean \n",
    "print(pe)"
   ]
  },
  {
   "cell_type": "code",
   "execution_count": 26,
   "metadata": {},
   "outputs": [
    {
     "name": "stdout",
     "output_type": "stream",
     "text": [
      "T Critical Value @ Confidence Level: 95% and Degrees of Freedom: 23\n"
     ]
    },
    {
     "data": {
      "text/plain": [
       "-1.7138715277470478"
      ]
     },
     "execution_count": 26,
     "metadata": {},
     "output_type": "execute_result"
    }
   ],
   "source": [
    "print('T Critical Value @ Confidence Level: 95% and Degrees of Freedom: 23') \n",
    "\n",
    "t.ppf(0.05, 23)"
   ]
  },
  {
   "cell_type": "code",
   "execution_count": 27,
   "metadata": {},
   "outputs": [
    {
     "name": "stdout",
     "output_type": "stream",
     "text": [
      "Standard Deviation Difference\n",
      "4.86\n"
     ]
    }
   ],
   "source": [
    "print('Standard Deviation Difference')\n",
    "\n",
    "diff = df.Congruent - df.Incongruent \n",
    "\n",
    "std_diff = round(diff.std(),2)\n",
    "\n",
    "print(std_diff)"
   ]
  },
  {
   "cell_type": "code",
   "execution_count": 28,
   "metadata": {},
   "outputs": [
    {
     "name": "stdout",
     "output_type": "stream",
     "text": [
      "T-Statistic\n",
      "-8.0287\n"
     ]
    }
   ],
   "source": [
    "print('T-Statistic')\n",
    "\n",
    "print(round(pe/(std_diff/ math.sqrt(n)),4))"
   ]
  },
  {
   "cell_type": "markdown",
   "metadata": {},
   "source": [
    "The t-statistic is -8.03 with the confidence level at 95% and a=0.05. This shows that the t-statistic is greater than the t-critical value (-1.71) and is in the critical region meaning p<0.05. Therefore, we reject the Null Hypothesis meaning the average response time to name the colour of the ink the words printed for congruent words is less than incongruent words.   \n"
   ]
  },
  {
   "cell_type": "markdown",
   "metadata": {},
   "source": [
    "## References"
   ]
  },
  {
   "cell_type": "markdown",
   "metadata": {},
   "source": [
    "https://faculty.washington.edu/chudler/words.html \n"
   ]
  },
  {
   "cell_type": "markdown",
   "metadata": {},
   "source": [
    "https://www.theguardian.com/science/head-quarters/2016/jul/25/the-stroop-test-how-colourful-is-your-language"
   ]
  },
  {
   "cell_type": "code",
   "execution_count": null,
   "metadata": {},
   "outputs": [],
   "source": []
  }
 ],
 "metadata": {
  "kernelspec": {
   "display_name": "Python 3",
   "language": "python",
   "name": "python3"
  },
  "language_info": {
   "codemirror_mode": {
    "name": "ipython",
    "version": 3
   },
   "file_extension": ".py",
   "mimetype": "text/x-python",
   "name": "python",
   "nbconvert_exporter": "python",
   "pygments_lexer": "ipython3",
   "version": "3.6.5"
  }
 },
 "nbformat": 4,
 "nbformat_minor": 2
}
