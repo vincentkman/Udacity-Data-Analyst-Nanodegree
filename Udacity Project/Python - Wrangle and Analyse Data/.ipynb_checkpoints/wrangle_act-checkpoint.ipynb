{
 "cells": [
  {
   "cell_type": "markdown",
   "metadata": {},
   "source": [
    "# Udacity WeRateDogs Project:   Wrangle and Analyse Twitter Data"
   ]
  },
  {
   "cell_type": "markdown",
   "metadata": {},
   "source": [
    "By Vincent Man "
   ]
  },
  {
   "cell_type": "markdown",
   "metadata": {},
   "source": [
    "Date: July 28, 2018"
   ]
  },
  {
   "cell_type": "markdown",
   "metadata": {},
   "source": [
    "### Library "
   ]
  },
  {
   "cell_type": "code",
   "execution_count": 1,
   "metadata": {},
   "outputs": [],
   "source": [
    "# Import all neccessary packages \n",
    "import pandas as pd\n",
    "import tweepy\n",
    "import requests\n",
    "import os\n",
    "import json\n",
    "from datetime import datetime, timedelta\n",
    "\n",
    "import matplotlib.pyplot as plt\n",
    "%matplotlib inline\n",
    "plt.style.use('ggplot')\n",
    "\n",
    "import seaborn as sns\n",
    "sns.set(style='darkgrid')"
   ]
  },
  {
   "cell_type": "markdown",
   "metadata": {},
   "source": [
    "# Gather Data"
   ]
  },
  {
   "cell_type": "markdown",
   "metadata": {},
   "source": [
    "### 1.Twitter Archive File"
   ]
  },
  {
   "cell_type": "code",
   "execution_count": 2,
   "metadata": {},
   "outputs": [],
   "source": [
    "# Import and read csv file into a dataframe that contains tweets \n",
    "twitter_archive = pd.read_csv('twitter-archive-enhanced.csv', encoding='utf-8')\n",
    "\n",
    "twitter_archive.sort_values(by='tweet_id', inplace=True)\n"
   ]
  },
  {
   "cell_type": "markdown",
   "metadata": {},
   "source": [
    "### Tweet Image Predictions of Dog breeds"
   ]
  },
  {
   "cell_type": "code",
   "execution_count": 3,
   "metadata": {
    "scrolled": true
   },
   "outputs": [],
   "source": [
    "# Programmatically import the tsv data that contains predictions of dog breeds online\n",
    "img_pred_url = ('https://d17h27t6h515a5.cloudfront.net/topher/2017/'\n",
    "                       'August/599fd2ad_image-predictions/image-predictions.tsv')\n",
    "# Downloading file from a specified URL by using the request library\n",
    "response = requests.get(img_pred_url)\n",
    "\n",
    "# Saving data into a tsv file\n",
    "with open('image-predictions.tsv', \n",
    "          mode='wb') as file:\n",
    "    file.write(response.content)\n",
    "    \n",
    "# Import data from TSV\n",
    "img_pred_df = pd.read_csv('image-predictions.tsv', \n",
    "                          sep='\\t', \n",
    "                          encoding='utf-8')"
   ]
  },
  {
   "cell_type": "markdown",
   "metadata": {},
   "source": [
    "### Tweets - Twitter API and JSON"
   ]
  },
  {
   "cell_type": "code",
   "execution_count": 5,
   "metadata": {},
   "outputs": [],
   "source": [
    "# Details for Twitter API \n",
    "consumer_key = 'YOUR CONSUMER KEY'\n",
    "consumer_secret = 'YOUR CONSUMER SECRET'\n",
    "access_token = 'YOUR ACCESS TOKEN'\n",
    "access_secret = 'YOUR ACCESS SECRET'\n",
    "\n",
    "# Establish connection to API\n",
    "auth = tweepy.OAuthHandler(consumer_key, \n",
    "                           consumer_secret)\n",
    "\n",
    "auth.set_access_token(access_token, \n",
    "                      access_secret)\n",
    "\n",
    "api = tweepy.API(auth,\n",
    "                 parser = tweepy.parsers.JSONParser(),\n",
    "                 wait_on_rate_limit = True, \n",
    "                 wait_on_rate_limit_notify = True)"
   ]
  },
  {
   "cell_type": "code",
   "execution_count": 6,
   "metadata": {},
   "outputs": [
    {
     "name": "stderr",
     "output_type": "stream",
     "text": [
      "Rate limit reached. Sleeping for: 47\n"
     ]
    },
    {
     "name": "stdout",
     "output_type": "stream",
     "text": [
      "Error Occurred for Twitter ID: 754011816964026368\n",
      "Error Occurred for Twitter ID: 770743923962707968\n",
      "Error Occurred for Twitter ID: 775096608509886464\n",
      "Error Occurred for Twitter ID: 802247111496568832\n"
     ]
    },
    {
     "name": "stderr",
     "output_type": "stream",
     "text": [
      "Rate limit reached. Sleeping for: 110\n"
     ]
    },
    {
     "name": "stdout",
     "output_type": "stream",
     "text": [
      "Error Occurred for Twitter ID: 827228250799742977\n",
      "Error Occurred for Twitter ID: 837012587749474308\n",
      "Error Occurred for Twitter ID: 842892208864923648\n",
      "Error Occurred for Twitter ID: 845459076796616705\n",
      "Error Occurred for Twitter ID: 861769973181624320\n",
      "Error Occurred for Twitter ID: 866816280283807744\n",
      "Error Occurred for Twitter ID: 869988702071779329\n",
      "Error Occurred for Twitter ID: 873697596434513921\n",
      "Error Occurred for Twitter ID: 888202515573088257\n"
     ]
    }
   ],
   "source": [
    "# Append each Tweet id and store in a list\n",
    "tweet_data = []\n",
    "# Tweet id that cannot be found \n",
    "failed_id = []\n",
    "\n",
    "# Gather all of the tweets into twitter_archive dataframe\n",
    "for tweet_id in twitter_archive['tweet_id']:\n",
    "    try:\n",
    "        tweet_status = api.get_status(tweet_id, \n",
    "                                      tweet_mode = 'extended')\n",
    "       \n",
    "        # Save only the necessary columns into the dataframe\n",
    "        favorite_count = tweet_status['favorite_count'] \n",
    "        retweet_count = tweet_status['retweet_count'] \n",
    "        \n",
    "        tweet_data.append({'tweet_id': int(tweet_id),\n",
    "                        'favorite_count': int(favorite_count),\n",
    "                        'retweet_count': int(retweet_count)})\n",
    "    \n",
    "    # Tweets that might have been deleted \n",
    "    except Exception:\n",
    "        print(\"Error Occurred for Twitter ID: \" + str(tweet_id))\n",
    "        failed_id.append(tweet_id)"
   ]
  },
  {
   "cell_type": "code",
   "execution_count": 7,
   "metadata": {},
   "outputs": [
    {
     "name": "stdout",
     "output_type": "stream",
     "text": [
      "The number of found Tweets: 2343\n",
      "The number of failed Tweets: 13\n"
     ]
    }
   ],
   "source": [
    "# Showing the number of tweets that are working\n",
    "print(\"The number of found Tweets: \" \n",
    "      + str(len(tweet_data)))\n",
    "# Showing the number of Tweets that cannot be found\n",
    "print(\"The number of failed Tweets: \" \n",
    "      + str(len(failed_id)))"
   ]
  },
  {
   "cell_type": "code",
   "execution_count": 8,
   "metadata": {},
   "outputs": [],
   "source": [
    "# Save the failed tweet ids that cannot be found and append them to the failed_id list\n",
    "\n",
    "for f in failed_id:\n",
    "    try:\n",
    "        favorite_count = tweet_status['favorite_count']\n",
    "        retweet_count = tweet_status['retweet_count']\n",
    "        \n",
    "        tweet_data.append({'tweet_id': int(tweet_id),\n",
    "                        'favorite_count': int(favorite_count),\n",
    "                        'retweet_count': int(retweet_count)})\n",
    "    except Exception:\n",
    "        failed_id.append(f)"
   ]
  },
  {
   "cell_type": "code",
   "execution_count": 9,
   "metadata": {},
   "outputs": [
    {
     "name": "stdout",
     "output_type": "stream",
     "text": [
      "Total number of Tweets after appending failed tweets to list: \n",
      "2356\n"
     ]
    }
   ],
   "source": [
    "# Showing the total number of tweet ids in the list including the failed tweet ids that cannot be found\n",
    "print(\"Total number of Tweets after appending failed tweets to list: \" + '\\n'  \n",
    "      + str(len(tweet_data)))"
   ]
  },
  {
   "cell_type": "code",
   "execution_count": 10,
   "metadata": {},
   "outputs": [],
   "source": [
    "# Create dataframes \n",
    "tweet_json = pd.DataFrame(tweet_data, \n",
    "                          columns = ['tweet_id', 'favorite_count', 'retweet_count'])\n",
    "\n",
    "# Export tweet_json dataframe into a CSV file \n",
    "tweet_json.to_csv('tweet_json.txt', \n",
    "                  encoding = 'utf-8', \n",
    "                  index=False)"
   ]
  },
  {
   "cell_type": "code",
   "execution_count": 11,
   "metadata": {},
   "outputs": [],
   "source": [
    "# Read the tweet_json csv file as a Pandas dataframe\n",
    "tweet_json = pd.read_csv('tweet_json.txt', \n",
    "                         encoding = 'utf-8')\n"
   ]
  },
  {
   "cell_type": "markdown",
   "metadata": {},
   "source": [
    "# Assess Data"
   ]
  },
  {
   "cell_type": "markdown",
   "metadata": {},
   "source": [
    "### Quality Issues:"
   ]
  },
  {
   "cell_type": "markdown",
   "metadata": {},
   "source": [
    "### twitter_archive dataset   "
   ]
  },
  {
   "cell_type": "markdown",
   "metadata": {},
   "source": [
    "1. Timestamp variable should be datetime instead of object \n",
    "2. Tweet_id should be string   \n",
    "3. To keep original tweets without retweets and replies (remove in_reply_to_status_id, in_reply_to_user_id, retweeted_status_id, retweeted_status_user_id, retweeted_status_timestamp) \n",
    "4. The source variable has html tags entries\n",
    "5. Only keep the original ratings with images\n",
    "6. The numerator and denominator columns have incorrect entries\n",
    "7. The name variable does not have valid dog names such as 'a' and 'an'"
   ]
  },
  {
   "cell_type": "markdown",
   "metadata": {},
   "source": [
    "### img_pred_df dataset"
   ]
  },
  {
   "cell_type": "markdown",
   "metadata": {},
   "source": [
    "8. The variables of P1, P2 and P3 do not consistently start with a capital letter and there are underscores\n",
    "9. Confusing variable headers"
   ]
  },
  {
   "cell_type": "markdown",
   "metadata": {},
   "source": [
    "### tweet_json dataset "
   ]
  },
  {
   "cell_type": "markdown",
   "metadata": {},
   "source": [
    "10. 13 duplications of Twitter ID '892420643555336193'"
   ]
  },
  {
   "cell_type": "markdown",
   "metadata": {},
   "source": [
    "### Tidyness Issues: "
   ]
  },
  {
   "cell_type": "markdown",
   "metadata": {},
   "source": [
    "1. Melt the twitter_archive dataframe and have only one column instead of 4 ('doggo', 'floofer' ,'pupper' and 'puppo') \n",
    "2. Consolidate and merge the 3 datasets: twitter_archive, img_pred_df and tweet_json into one as they are describing the same tweet"
   ]
  },
  {
   "cell_type": "code",
   "execution_count": 12,
   "metadata": {},
   "outputs": [
    {
     "data": {
      "text/plain": [
       "Index(['tweet_id', 'in_reply_to_status_id', 'in_reply_to_user_id', 'timestamp',\n",
       "       'source', 'text', 'retweeted_status_id', 'retweeted_status_user_id',\n",
       "       'retweeted_status_timestamp', 'expanded_urls', 'rating_numerator',\n",
       "       'rating_denominator', 'name', 'doggo', 'floofer', 'pupper', 'puppo'],\n",
       "      dtype='object')"
      ]
     },
     "execution_count": 12,
     "metadata": {},
     "output_type": "execute_result"
    }
   ],
   "source": [
    "# List all of twitter_archive dataset variables \n",
    "twitter_archive.columns"
   ]
  },
  {
   "cell_type": "code",
   "execution_count": 13,
   "metadata": {},
   "outputs": [
    {
     "name": "stdout",
     "output_type": "stream",
     "text": [
      "                tweet_id  in_reply_to_status_id  in_reply_to_user_id  \\\n",
      "2355  666020888022790149                    NaN                  NaN   \n",
      "2354  666029285002620928                    NaN                  NaN   \n",
      "2353  666033412701032449                    NaN                  NaN   \n",
      "2352  666044226329800704                    NaN                  NaN   \n",
      "2351  666049248165822465                    NaN                  NaN   \n",
      "\n",
      "                      timestamp  \\\n",
      "2355  2015-11-15 22:32:08 +0000   \n",
      "2354  2015-11-15 23:05:30 +0000   \n",
      "2353  2015-11-15 23:21:54 +0000   \n",
      "2352  2015-11-16 00:04:52 +0000   \n",
      "2351  2015-11-16 00:24:50 +0000   \n",
      "\n",
      "                                                 source  \\\n",
      "2355  <a href=\"http://twitter.com/download/iphone\" r...   \n",
      "2354  <a href=\"http://twitter.com/download/iphone\" r...   \n",
      "2353  <a href=\"http://twitter.com/download/iphone\" r...   \n",
      "2352  <a href=\"http://twitter.com/download/iphone\" r...   \n",
      "2351  <a href=\"http://twitter.com/download/iphone\" r...   \n",
      "\n",
      "                                                   text  retweeted_status_id  \\\n",
      "2355  Here we have a Japanese Irish Setter. Lost eye...                  NaN   \n",
      "2354  This is a western brown Mitsubishi terrier. Up...                  NaN   \n",
      "2353  Here is a very happy pup. Big fan of well-main...                  NaN   \n",
      "2352  This is a purebred Piers Morgan. Loves to Netf...                  NaN   \n",
      "2351  Here we have a 1949 1st generation vulpix. Enj...                  NaN   \n",
      "\n",
      "      retweeted_status_user_id retweeted_status_timestamp  \\\n",
      "2355                       NaN                        NaN   \n",
      "2354                       NaN                        NaN   \n",
      "2353                       NaN                        NaN   \n",
      "2352                       NaN                        NaN   \n",
      "2351                       NaN                        NaN   \n",
      "\n",
      "                                          expanded_urls  rating_numerator  \\\n",
      "2355  https://twitter.com/dog_rates/status/666020888...                 8   \n",
      "2354  https://twitter.com/dog_rates/status/666029285...                 7   \n",
      "2353  https://twitter.com/dog_rates/status/666033412...                 9   \n",
      "2352  https://twitter.com/dog_rates/status/666044226...                 6   \n",
      "2351  https://twitter.com/dog_rates/status/666049248...                 5   \n",
      "\n",
      "      rating_denominator  name doggo floofer pupper puppo  \n",
      "2355                  10  None  None    None   None  None  \n",
      "2354                  10     a  None    None   None  None  \n",
      "2353                  10     a  None    None   None  None  \n",
      "2352                  10     a  None    None   None  None  \n",
      "2351                  10  None  None    None   None  None  \n"
     ]
    }
   ],
   "source": [
    "# Showing the first 5 rows of twitter_archive dataset\n",
    "print(twitter_archive.head())"
   ]
  },
  {
   "cell_type": "code",
   "execution_count": 14,
   "metadata": {},
   "outputs": [
    {
     "name": "stdout",
     "output_type": "stream",
     "text": [
      "             tweet_id  in_reply_to_status_id  in_reply_to_user_id  \\\n",
      "4  891327558926688256                    NaN                  NaN   \n",
      "3  891689557279858688                    NaN                  NaN   \n",
      "2  891815181378084864                    NaN                  NaN   \n",
      "1  892177421306343426                    NaN                  NaN   \n",
      "0  892420643555336193                    NaN                  NaN   \n",
      "\n",
      "                   timestamp  \\\n",
      "4  2017-07-29 16:00:24 +0000   \n",
      "3  2017-07-30 15:58:51 +0000   \n",
      "2  2017-07-31 00:18:03 +0000   \n",
      "1  2017-08-01 00:17:27 +0000   \n",
      "0  2017-08-01 16:23:56 +0000   \n",
      "\n",
      "                                              source  \\\n",
      "4  <a href=\"http://twitter.com/download/iphone\" r...   \n",
      "3  <a href=\"http://twitter.com/download/iphone\" r...   \n",
      "2  <a href=\"http://twitter.com/download/iphone\" r...   \n",
      "1  <a href=\"http://twitter.com/download/iphone\" r...   \n",
      "0  <a href=\"http://twitter.com/download/iphone\" r...   \n",
      "\n",
      "                                                text  retweeted_status_id  \\\n",
      "4  This is Franklin. He would like you to stop ca...                  NaN   \n",
      "3  This is Darla. She commenced a snooze mid meal...                  NaN   \n",
      "2  This is Archie. He is a rare Norwegian Pouncin...                  NaN   \n",
      "1  This is Tilly. She's just checking pup on you....                  NaN   \n",
      "0  This is Phineas. He's a mystical boy. Only eve...                  NaN   \n",
      "\n",
      "   retweeted_status_user_id retweeted_status_timestamp  \\\n",
      "4                       NaN                        NaN   \n",
      "3                       NaN                        NaN   \n",
      "2                       NaN                        NaN   \n",
      "1                       NaN                        NaN   \n",
      "0                       NaN                        NaN   \n",
      "\n",
      "                                       expanded_urls  rating_numerator  \\\n",
      "4  https://twitter.com/dog_rates/status/891327558...                12   \n",
      "3  https://twitter.com/dog_rates/status/891689557...                13   \n",
      "2  https://twitter.com/dog_rates/status/891815181...                12   \n",
      "1  https://twitter.com/dog_rates/status/892177421...                13   \n",
      "0  https://twitter.com/dog_rates/status/892420643...                13   \n",
      "\n",
      "   rating_denominator      name doggo floofer pupper puppo  \n",
      "4                  10  Franklin  None    None   None  None  \n",
      "3                  10     Darla  None    None   None  None  \n",
      "2                  10    Archie  None    None   None  None  \n",
      "1                  10     Tilly  None    None   None  None  \n",
      "0                  10   Phineas  None    None   None  None  \n"
     ]
    }
   ],
   "source": [
    "# Showing the last 5 rows of twitter_archive dataset\n",
    "print(twitter_archive.tail())"
   ]
  },
  {
   "cell_type": "code",
   "execution_count": 15,
   "metadata": {},
   "outputs": [
    {
     "name": "stdout",
     "output_type": "stream",
     "text": [
      "                tweet_id  in_reply_to_status_id  in_reply_to_user_id  \\\n",
      "1046  743545585370791937                    NaN                  NaN   \n",
      "1050  743210557239623680                    NaN                  NaN   \n",
      "144   863907417377173506                    NaN                  NaN   \n",
      "1056  742161199639494656                    NaN                  NaN   \n",
      "752   778990705243029504                    NaN                  NaN   \n",
      "\n",
      "                      timestamp  \\\n",
      "1046  2016-06-16 20:47:36 +0000   \n",
      "1050  2016-06-15 22:36:19 +0000   \n",
      "144   2017-05-15 00:02:33 +0000   \n",
      "1056  2016-06-13 01:06:33 +0000   \n",
      "752   2016-09-22 16:13:51 +0000   \n",
      "\n",
      "                                                 source  \\\n",
      "1046  <a href=\"http://twitter.com/download/iphone\" r...   \n",
      "1050  <a href=\"http://twitter.com/download/iphone\" r...   \n",
      "144   <a href=\"http://twitter.com/download/iphone\" r...   \n",
      "1056  <a href=\"http://twitter.com/download/iphone\" r...   \n",
      "752   <a href=\"http://twitter.com/download/iphone\" r...   \n",
      "\n",
      "                                                   text  retweeted_status_id  \\\n",
      "1046  Say hello to Bentley and Millie. They do every...                  NaN   \n",
      "1050  Meet Kayla, an underground poker legend. Playe...                  NaN   \n",
      "144   This is Albus. He's quite impressive at hide a...                  NaN   \n",
      "1056  This is Doug. He's trying to float away. 12/10...                  NaN   \n",
      "752   This is Jay. He's really h*ckin happy about th...                  NaN   \n",
      "\n",
      "      retweeted_status_user_id retweeted_status_timestamp  \\\n",
      "1046                       NaN                        NaN   \n",
      "1050                       NaN                        NaN   \n",
      "144                        NaN                        NaN   \n",
      "1056                       NaN                        NaN   \n",
      "752                        NaN                        NaN   \n",
      "\n",
      "                                          expanded_urls  rating_numerator  \\\n",
      "1046  https://twitter.com/dog_rates/status/743545585...                11   \n",
      "1050  https://twitter.com/dog_rates/status/743210557...                10   \n",
      "144   https://twitter.com/dog_rates/status/863907417...                13   \n",
      "1056  https://twitter.com/dog_rates/status/742161199...                12   \n",
      "752   https://twitter.com/dog_rates/status/778990705...                11   \n",
      "\n",
      "      rating_denominator     name doggo floofer pupper puppo  \n",
      "1046                  10  Bentley  None    None   None  None  \n",
      "1050                  10    Kayla  None    None   None  None  \n",
      "144                   10    Albus  None    None   None  None  \n",
      "1056                  10     Doug  None    None   None  None  \n",
      "752                   10      Jay  None    None   None  None  \n"
     ]
    }
   ],
   "source": [
    "# Showing 5 ramdom samples \n",
    "print(twitter_archive.sample(5))"
   ]
  },
  {
   "cell_type": "code",
   "execution_count": 16,
   "metadata": {},
   "outputs": [
    {
     "name": "stdout",
     "output_type": "stream",
     "text": [
      "<class 'pandas.core.frame.DataFrame'>\n",
      "Int64Index: 2356 entries, 2355 to 0\n",
      "Data columns (total 17 columns):\n",
      "tweet_id                      2356 non-null int64\n",
      "in_reply_to_status_id         78 non-null float64\n",
      "in_reply_to_user_id           78 non-null float64\n",
      "timestamp                     2356 non-null object\n",
      "source                        2356 non-null object\n",
      "text                          2356 non-null object\n",
      "retweeted_status_id           181 non-null float64\n",
      "retweeted_status_user_id      181 non-null float64\n",
      "retweeted_status_timestamp    181 non-null object\n",
      "expanded_urls                 2297 non-null object\n",
      "rating_numerator              2356 non-null int64\n",
      "rating_denominator            2356 non-null int64\n",
      "name                          2356 non-null object\n",
      "doggo                         2356 non-null object\n",
      "floofer                       2356 non-null object\n",
      "pupper                        2356 non-null object\n",
      "puppo                         2356 non-null object\n",
      "dtypes: float64(4), int64(3), object(10)\n",
      "memory usage: 331.3+ KB\n"
     ]
    }
   ],
   "source": [
    "# Show the data types of each variable\n",
    "twitter_archive.info()"
   ]
  },
  {
   "cell_type": "code",
   "execution_count": 17,
   "metadata": {
    "scrolled": true
   },
   "outputs": [
    {
     "data": {
      "text/html": [
       "<div>\n",
       "<style scoped>\n",
       "    .dataframe tbody tr th:only-of-type {\n",
       "        vertical-align: middle;\n",
       "    }\n",
       "\n",
       "    .dataframe tbody tr th {\n",
       "        vertical-align: top;\n",
       "    }\n",
       "\n",
       "    .dataframe thead th {\n",
       "        text-align: right;\n",
       "    }\n",
       "</style>\n",
       "<table border=\"1\" class=\"dataframe\">\n",
       "  <thead>\n",
       "    <tr style=\"text-align: right;\">\n",
       "      <th></th>\n",
       "      <th>tweet_id</th>\n",
       "      <th>in_reply_to_status_id</th>\n",
       "      <th>in_reply_to_user_id</th>\n",
       "      <th>retweeted_status_id</th>\n",
       "      <th>retweeted_status_user_id</th>\n",
       "      <th>rating_numerator</th>\n",
       "      <th>rating_denominator</th>\n",
       "    </tr>\n",
       "  </thead>\n",
       "  <tbody>\n",
       "    <tr>\n",
       "      <th>count</th>\n",
       "      <td>2.356000e+03</td>\n",
       "      <td>7.800000e+01</td>\n",
       "      <td>7.800000e+01</td>\n",
       "      <td>1.810000e+02</td>\n",
       "      <td>1.810000e+02</td>\n",
       "      <td>2356.000000</td>\n",
       "      <td>2356.000000</td>\n",
       "    </tr>\n",
       "    <tr>\n",
       "      <th>mean</th>\n",
       "      <td>7.427716e+17</td>\n",
       "      <td>7.455079e+17</td>\n",
       "      <td>2.014171e+16</td>\n",
       "      <td>7.720400e+17</td>\n",
       "      <td>1.241698e+16</td>\n",
       "      <td>13.126486</td>\n",
       "      <td>10.455433</td>\n",
       "    </tr>\n",
       "    <tr>\n",
       "      <th>std</th>\n",
       "      <td>6.856705e+16</td>\n",
       "      <td>7.582492e+16</td>\n",
       "      <td>1.252797e+17</td>\n",
       "      <td>6.236928e+16</td>\n",
       "      <td>9.599254e+16</td>\n",
       "      <td>45.876648</td>\n",
       "      <td>6.745237</td>\n",
       "    </tr>\n",
       "    <tr>\n",
       "      <th>min</th>\n",
       "      <td>6.660209e+17</td>\n",
       "      <td>6.658147e+17</td>\n",
       "      <td>1.185634e+07</td>\n",
       "      <td>6.661041e+17</td>\n",
       "      <td>7.832140e+05</td>\n",
       "      <td>0.000000</td>\n",
       "      <td>0.000000</td>\n",
       "    </tr>\n",
       "    <tr>\n",
       "      <th>25%</th>\n",
       "      <td>6.783989e+17</td>\n",
       "      <td>6.757419e+17</td>\n",
       "      <td>3.086374e+08</td>\n",
       "      <td>7.186315e+17</td>\n",
       "      <td>4.196984e+09</td>\n",
       "      <td>10.000000</td>\n",
       "      <td>10.000000</td>\n",
       "    </tr>\n",
       "    <tr>\n",
       "      <th>50%</th>\n",
       "      <td>7.196279e+17</td>\n",
       "      <td>7.038708e+17</td>\n",
       "      <td>4.196984e+09</td>\n",
       "      <td>7.804657e+17</td>\n",
       "      <td>4.196984e+09</td>\n",
       "      <td>11.000000</td>\n",
       "      <td>10.000000</td>\n",
       "    </tr>\n",
       "    <tr>\n",
       "      <th>75%</th>\n",
       "      <td>7.993373e+17</td>\n",
       "      <td>8.257804e+17</td>\n",
       "      <td>4.196984e+09</td>\n",
       "      <td>8.203146e+17</td>\n",
       "      <td>4.196984e+09</td>\n",
       "      <td>12.000000</td>\n",
       "      <td>10.000000</td>\n",
       "    </tr>\n",
       "    <tr>\n",
       "      <th>max</th>\n",
       "      <td>8.924206e+17</td>\n",
       "      <td>8.862664e+17</td>\n",
       "      <td>8.405479e+17</td>\n",
       "      <td>8.874740e+17</td>\n",
       "      <td>7.874618e+17</td>\n",
       "      <td>1776.000000</td>\n",
       "      <td>170.000000</td>\n",
       "    </tr>\n",
       "  </tbody>\n",
       "</table>\n",
       "</div>"
      ],
      "text/plain": [
       "           tweet_id  in_reply_to_status_id  in_reply_to_user_id  \\\n",
       "count  2.356000e+03           7.800000e+01         7.800000e+01   \n",
       "mean   7.427716e+17           7.455079e+17         2.014171e+16   \n",
       "std    6.856705e+16           7.582492e+16         1.252797e+17   \n",
       "min    6.660209e+17           6.658147e+17         1.185634e+07   \n",
       "25%    6.783989e+17           6.757419e+17         3.086374e+08   \n",
       "50%    7.196279e+17           7.038708e+17         4.196984e+09   \n",
       "75%    7.993373e+17           8.257804e+17         4.196984e+09   \n",
       "max    8.924206e+17           8.862664e+17         8.405479e+17   \n",
       "\n",
       "       retweeted_status_id  retweeted_status_user_id  rating_numerator  \\\n",
       "count         1.810000e+02              1.810000e+02       2356.000000   \n",
       "mean          7.720400e+17              1.241698e+16         13.126486   \n",
       "std           6.236928e+16              9.599254e+16         45.876648   \n",
       "min           6.661041e+17              7.832140e+05          0.000000   \n",
       "25%           7.186315e+17              4.196984e+09         10.000000   \n",
       "50%           7.804657e+17              4.196984e+09         11.000000   \n",
       "75%           8.203146e+17              4.196984e+09         12.000000   \n",
       "max           8.874740e+17              7.874618e+17       1776.000000   \n",
       "\n",
       "       rating_denominator  \n",
       "count         2356.000000  \n",
       "mean            10.455433  \n",
       "std              6.745237  \n",
       "min              0.000000  \n",
       "25%             10.000000  \n",
       "50%             10.000000  \n",
       "75%             10.000000  \n",
       "max            170.000000  "
      ]
     },
     "execution_count": 17,
     "metadata": {},
     "output_type": "execute_result"
    }
   ],
   "source": [
    "# Check descriptive statistics of twitter_archive\n",
    "twitter_archive.describe()"
   ]
  },
  {
   "cell_type": "code",
   "execution_count": 18,
   "metadata": {},
   "outputs": [
    {
     "name": "stdout",
     "output_type": "stream",
     "text": [
      "Number of Duplicated entries in twitter_archive: \n",
      "0\n"
     ]
    }
   ],
   "source": [
    "#Show number of duplicated entries in twitter_archive dataset\n",
    "print('Number of Duplicated entries in twitter_archive: ' \n",
    "      + '\\n' +str(sum(twitter_archive.duplicated())))"
   ]
  },
  {
   "cell_type": "code",
   "execution_count": 19,
   "metadata": {},
   "outputs": [
    {
     "name": "stdout",
     "output_type": "stream",
     "text": [
      "Number of Null entries: \n",
      "\n",
      "in_reply_to_status_id: 2278\n",
      "in_reply_to_user_id: 2278\n",
      "retweeted_status_id: 2175\n",
      "retweeted_status_user_id: 2175\n",
      "retweeted_status_timestamp: 2175\n"
     ]
    }
   ],
   "source": [
    "# Show the number of Null entries \n",
    "print('Number of Null entries: ' + '\\n') \n",
    "\n",
    "print('in_reply_to_status_id: ' + \n",
    "      str(sum(twitter_archive['in_reply_to_status_id'].isnull())))\n",
    "\n",
    "print('in_reply_to_user_id: ' + \n",
    "      str(sum(twitter_archive['in_reply_to_user_id'].isnull())))\n",
    " \n",
    "print('retweeted_status_id: ' + \n",
    "      str(sum(twitter_archive['retweeted_status_id'].isnull())))\n",
    "\n",
    "print('retweeted_status_user_id: ' + \n",
    "      str(sum(twitter_archive['retweeted_status_user_id'].isnull()))) \n",
    "\n",
    "print('retweeted_status_timestamp: ' + \n",
    "      str(sum(twitter_archive['retweeted_status_timestamp'].isnull())))"
   ]
  },
  {
   "cell_type": "code",
   "execution_count": 20,
   "metadata": {},
   "outputs": [],
   "source": [
    "#len(twitter_archive[twitter_archive.in_reply_to_status_id!=None])"
   ]
  },
  {
   "cell_type": "code",
   "execution_count": 21,
   "metadata": {},
   "outputs": [
    {
     "name": "stdout",
     "output_type": "stream",
     "text": [
      "None        745\n",
      "a            55\n",
      "Charlie      12\n",
      "Lucy         11\n",
      "Cooper       11\n",
      "Oliver       11\n",
      "Tucker       10\n",
      "Lola         10\n",
      "Penny        10\n",
      "Bo            9\n",
      "Winston       9\n",
      "the           8\n",
      "Sadie         8\n",
      "Daisy         7\n",
      "Bailey        7\n",
      "Buddy         7\n",
      "an            7\n",
      "Toby          7\n",
      "Leo           6\n",
      "Jack          6\n",
      "Oscar         6\n",
      "Bella         6\n",
      "Rusty         6\n",
      "Koda          6\n",
      "Stanley       6\n",
      "Dave          6\n",
      "Milo          6\n",
      "Jax           6\n",
      "Scout         6\n",
      "Oakley        5\n",
      "           ... \n",
      "Maya          1\n",
      "Lugan         1\n",
      "Brockly       1\n",
      "Eazy          1\n",
      "Nimbus        1\n",
      "Mona          1\n",
      "light         1\n",
      "Jomathan      1\n",
      "Clarkus       1\n",
      "Rizzo         1\n",
      "Cupid         1\n",
      "Barry         1\n",
      "Puff          1\n",
      "Timber        1\n",
      "Peanut        1\n",
      "Kloey         1\n",
      "Kawhi         1\n",
      "Winifred      1\n",
      "Loomis        1\n",
      "Stark         1\n",
      "Zeus          1\n",
      "Katie         1\n",
      "Bloop         1\n",
      "Milky         1\n",
      "Tassy         1\n",
      "Andy          1\n",
      "Yoda          1\n",
      "Jessifer      1\n",
      "Snickers      1\n",
      "life          1\n",
      "Name: name, Length: 957, dtype: int64\n"
     ]
    }
   ],
   "source": [
    "# Show the number of entries for each unique element \n",
    "# under the variable 'name' \n",
    "print(twitter_archive['name'].value_counts())"
   ]
  },
  {
   "cell_type": "code",
   "execution_count": 22,
   "metadata": {},
   "outputs": [
    {
     "data": {
      "text/html": [
       "<div>\n",
       "<style scoped>\n",
       "    .dataframe tbody tr th:only-of-type {\n",
       "        vertical-align: middle;\n",
       "    }\n",
       "\n",
       "    .dataframe tbody tr th {\n",
       "        vertical-align: top;\n",
       "    }\n",
       "\n",
       "    .dataframe thead th {\n",
       "        text-align: right;\n",
       "    }\n",
       "</style>\n",
       "<table border=\"1\" class=\"dataframe\">\n",
       "  <thead>\n",
       "    <tr style=\"text-align: right;\">\n",
       "      <th></th>\n",
       "      <th>name</th>\n",
       "    </tr>\n",
       "  </thead>\n",
       "  <tbody>\n",
       "    <tr>\n",
       "      <th>2019</th>\n",
       "      <td>just</td>\n",
       "    </tr>\n",
       "    <tr>\n",
       "      <th>2311</th>\n",
       "      <td>a</td>\n",
       "    </tr>\n",
       "    <tr>\n",
       "      <th>2128</th>\n",
       "      <td>a</td>\n",
       "    </tr>\n",
       "    <tr>\n",
       "      <th>1878</th>\n",
       "      <td>a</td>\n",
       "    </tr>\n",
       "    <tr>\n",
       "      <th>1457</th>\n",
       "      <td>just</td>\n",
       "    </tr>\n",
       "    <tr>\n",
       "      <th>2222</th>\n",
       "      <td>a</td>\n",
       "    </tr>\n",
       "    <tr>\n",
       "      <th>2204</th>\n",
       "      <td>an</td>\n",
       "    </tr>\n",
       "    <tr>\n",
       "      <th>988</th>\n",
       "      <td>not</td>\n",
       "    </tr>\n",
       "    <tr>\n",
       "      <th>852</th>\n",
       "      <td>my</td>\n",
       "    </tr>\n",
       "    <tr>\n",
       "      <th>2304</th>\n",
       "      <td>a</td>\n",
       "    </tr>\n",
       "  </tbody>\n",
       "</table>\n",
       "</div>"
      ],
      "text/plain": [
       "      name\n",
       "2019  just\n",
       "2311     a\n",
       "2128     a\n",
       "1878     a\n",
       "1457  just\n",
       "2222     a\n",
       "2204    an\n",
       "988    not\n",
       "852     my\n",
       "2304     a"
      ]
     },
     "execution_count": 22,
     "metadata": {},
     "output_type": "execute_result"
    }
   ],
   "source": [
    "# Show entries that are in lowercase under the variable 'name'\n",
    "lowercase = twitter_archive[twitter_archive['name'].str.islower()]\n",
    "lowercase.loc[:,['name']].sample(10)"
   ]
  },
  {
   "cell_type": "code",
   "execution_count": 23,
   "metadata": {},
   "outputs": [
    {
     "name": "stdout",
     "output_type": "stream",
     "text": [
      "<a href=\"http://twitter.com/download/iphone\" rel=\"nofollow\">Twitter for iPhone</a>     2221\n",
      "<a href=\"http://vine.co\" rel=\"nofollow\">Vine - Make a Scene</a>                          91\n",
      "<a href=\"http://twitter.com\" rel=\"nofollow\">Twitter Web Client</a>                       33\n",
      "<a href=\"https://about.twitter.com/products/tweetdeck\" rel=\"nofollow\">TweetDeck</a>      11\n",
      "Name: source, dtype: int64\n"
     ]
    }
   ],
   "source": [
    "# Show the number of entries for each unique element \n",
    "# under the variable 'source'  \n",
    "print(twitter_archive['source'].value_counts())"
   ]
  },
  {
   "cell_type": "code",
   "execution_count": 24,
   "metadata": {},
   "outputs": [
    {
     "name": "stdout",
     "output_type": "stream",
     "text": [
      "<class 'pandas.core.frame.DataFrame'>\n",
      "Int64Index: 2356 entries, 2355 to 0\n",
      "Data columns (total 17 columns):\n",
      "tweet_id                      2356 non-null int64\n",
      "in_reply_to_status_id         78 non-null float64\n",
      "in_reply_to_user_id           78 non-null float64\n",
      "timestamp                     2356 non-null object\n",
      "source                        2356 non-null object\n",
      "text                          2356 non-null object\n",
      "retweeted_status_id           181 non-null float64\n",
      "retweeted_status_user_id      181 non-null float64\n",
      "retweeted_status_timestamp    181 non-null object\n",
      "expanded_urls                 2297 non-null object\n",
      "rating_numerator              2356 non-null int64\n",
      "rating_denominator            2356 non-null int64\n",
      "name                          2356 non-null object\n",
      "doggo                         2356 non-null object\n",
      "floofer                       2356 non-null object\n",
      "pupper                        2356 non-null object\n",
      "puppo                         2356 non-null object\n",
      "dtypes: float64(4), int64(3), object(10)\n",
      "memory usage: 331.3+ KB\n"
     ]
    }
   ],
   "source": [
    "twitter_archive.info()"
   ]
  },
  {
   "cell_type": "code",
   "execution_count": 25,
   "metadata": {},
   "outputs": [
    {
     "name": "stdout",
     "output_type": "stream",
     "text": [
      "12      558\n",
      "11      464\n",
      "10      461\n",
      "13      351\n",
      "9       158\n",
      "8       102\n",
      "7        55\n",
      "14       54\n",
      "5        37\n",
      "6        32\n",
      "3        19\n",
      "4        17\n",
      "1         9\n",
      "2         9\n",
      "420       2\n",
      "0         2\n",
      "15        2\n",
      "75        2\n",
      "80        1\n",
      "20        1\n",
      "24        1\n",
      "26        1\n",
      "44        1\n",
      "50        1\n",
      "60        1\n",
      "165       1\n",
      "84        1\n",
      "88        1\n",
      "144       1\n",
      "182       1\n",
      "143       1\n",
      "666       1\n",
      "960       1\n",
      "1776      1\n",
      "17        1\n",
      "27        1\n",
      "45        1\n",
      "99        1\n",
      "121       1\n",
      "204       1\n",
      "Name: rating_numerator, dtype: int64\n"
     ]
    }
   ],
   "source": [
    "# Show the number of entries for each unique element \n",
    "# under the variable 'rating_numerator' \n",
    "print(twitter_archive['rating_numerator'].value_counts())"
   ]
  },
  {
   "cell_type": "code",
   "execution_count": 26,
   "metadata": {},
   "outputs": [
    {
     "name": "stdout",
     "output_type": "stream",
     "text": [
      "10     2333\n",
      "11        3\n",
      "50        3\n",
      "80        2\n",
      "20        2\n",
      "2         1\n",
      "16        1\n",
      "40        1\n",
      "70        1\n",
      "15        1\n",
      "90        1\n",
      "110       1\n",
      "120       1\n",
      "130       1\n",
      "150       1\n",
      "170       1\n",
      "7         1\n",
      "0         1\n",
      "Name: rating_denominator, dtype: int64\n"
     ]
    }
   ],
   "source": [
    "# Show the number of entries for each unique element \n",
    "# under the variable 'rating_denominator' \n",
    "print(twitter_archive['rating_denominator'].value_counts())"
   ]
  },
  {
   "cell_type": "code",
   "execution_count": 27,
   "metadata": {},
   "outputs": [
    {
     "name": "stdout",
     "output_type": "stream",
     "text": [
      "None     2259\n",
      "doggo      97\n",
      "Name: doggo, dtype: int64\n",
      "None       2346\n",
      "floofer      10\n",
      "Name: floofer, dtype: int64\n",
      "None      2099\n",
      "pupper     257\n",
      "Name: pupper, dtype: int64\n",
      "None     2326\n",
      "puppo      30\n",
      "Name: puppo, dtype: int64\n"
     ]
    }
   ],
   "source": [
    "# Show the number of entries for each unique element \n",
    "# under the variable doggo, floofer, pupper, puppo. \n",
    "\n",
    "print(twitter_archive['doggo'].value_counts())\n",
    "print(twitter_archive['floofer'].value_counts())\n",
    "print(twitter_archive['pupper'].value_counts())\n",
    "print(twitter_archive['puppo'].value_counts())"
   ]
  },
  {
   "cell_type": "code",
   "execution_count": 28,
   "metadata": {},
   "outputs": [
    {
     "data": {
      "text/plain": [
       "Index(['tweet_id', 'jpg_url', 'img_num', 'p1', 'p1_conf', 'p1_dog', 'p2',\n",
       "       'p2_conf', 'p2_dog', 'p3', 'p3_conf', 'p3_dog'],\n",
       "      dtype='object')"
      ]
     },
     "execution_count": 28,
     "metadata": {},
     "output_type": "execute_result"
    }
   ],
   "source": [
    "# List all of img_pred_df dataset variables \n",
    "img_pred_df.columns"
   ]
  },
  {
   "cell_type": "code",
   "execution_count": 29,
   "metadata": {},
   "outputs": [
    {
     "name": "stdout",
     "output_type": "stream",
     "text": [
      "             tweet_id                                          jpg_url  \\\n",
      "0  666020888022790149  https://pbs.twimg.com/media/CT4udn0WwAA0aMy.jpg   \n",
      "1  666029285002620928  https://pbs.twimg.com/media/CT42GRgUYAA5iDo.jpg   \n",
      "2  666033412701032449  https://pbs.twimg.com/media/CT4521TWwAEvMyu.jpg   \n",
      "3  666044226329800704  https://pbs.twimg.com/media/CT5Dr8HUEAA-lEu.jpg   \n",
      "4  666049248165822465  https://pbs.twimg.com/media/CT5IQmsXIAAKY4A.jpg   \n",
      "\n",
      "   img_num                      p1   p1_conf  p1_dog                  p2  \\\n",
      "0        1  Welsh_springer_spaniel  0.465074    True              collie   \n",
      "1        1                 redbone  0.506826    True  miniature_pinscher   \n",
      "2        1         German_shepherd  0.596461    True            malinois   \n",
      "3        1     Rhodesian_ridgeback  0.408143    True             redbone   \n",
      "4        1      miniature_pinscher  0.560311    True          Rottweiler   \n",
      "\n",
      "    p2_conf  p2_dog                   p3   p3_conf  p3_dog  \n",
      "0  0.156665    True    Shetland_sheepdog  0.061428    True  \n",
      "1  0.074192    True  Rhodesian_ridgeback  0.072010    True  \n",
      "2  0.138584    True           bloodhound  0.116197    True  \n",
      "3  0.360687    True   miniature_pinscher  0.222752    True  \n",
      "4  0.243682    True             Doberman  0.154629    True  \n"
     ]
    }
   ],
   "source": [
    "# Showing the first 5 rows of img_pred_df dataset\n",
    "print(img_pred_df.head())"
   ]
  },
  {
   "cell_type": "code",
   "execution_count": 30,
   "metadata": {},
   "outputs": [
    {
     "name": "stdout",
     "output_type": "stream",
     "text": [
      "                tweet_id                                          jpg_url  \\\n",
      "2070  891327558926688256  https://pbs.twimg.com/media/DF6hr6BUMAAzZgT.jpg   \n",
      "2071  891689557279858688  https://pbs.twimg.com/media/DF_q7IAWsAEuuN8.jpg   \n",
      "2072  891815181378084864  https://pbs.twimg.com/media/DGBdLU1WsAANxJ9.jpg   \n",
      "2073  892177421306343426  https://pbs.twimg.com/media/DGGmoV4XsAAUL6n.jpg   \n",
      "2074  892420643555336193  https://pbs.twimg.com/media/DGKD1-bXoAAIAUK.jpg   \n",
      "\n",
      "      img_num           p1   p1_conf  p1_dog                  p2   p2_conf  \\\n",
      "2070        2       basset  0.555712    True    English_springer  0.225770   \n",
      "2071        1  paper_towel  0.170278   False  Labrador_retriever  0.168086   \n",
      "2072        1    Chihuahua  0.716012    True            malamute  0.078253   \n",
      "2073        1    Chihuahua  0.323581    True            Pekinese  0.090647   \n",
      "2074        1       orange  0.097049   False               bagel  0.085851   \n",
      "\n",
      "      p2_dog                           p3   p3_conf  p3_dog  \n",
      "2070    True  German_short-haired_pointer  0.175219    True  \n",
      "2071    True                      spatula  0.040836   False  \n",
      "2072    True                       kelpie  0.031379    True  \n",
      "2073    True                     papillon  0.068957    True  \n",
      "2074   False                       banana  0.076110   False  \n"
     ]
    }
   ],
   "source": [
    "# Showing the last 5 rows of img_pred_df dataset\n",
    "print(img_pred_df.tail())"
   ]
  },
  {
   "cell_type": "code",
   "execution_count": 31,
   "metadata": {},
   "outputs": [
    {
     "name": "stdout",
     "output_type": "stream",
     "text": [
      "                tweet_id                                            jpg_url  \\\n",
      "528   676776431406465024  https://pbs.twimg.com/ext_tw_video_thumb/67677...   \n",
      "691   684200372118904832    https://pbs.twimg.com/media/CX7EkuHWkAESLZk.jpg   \n",
      "1432  773308824254029826    https://pbs.twimg.com/media/CrtYRMEWIAAUkCl.jpg   \n",
      "422   674051556661161984    https://pbs.twimg.com/media/CVq2UHwWEAAduMw.jpg   \n",
      "261   670786190031921152    https://pbs.twimg.com/media/CU8ceuxWUAALMEo.jpg   \n",
      "\n",
      "      img_num             p1   p1_conf  p1_dog                  p2   p2_conf  \\\n",
      "528         1        doormat  0.201346   False          dishwasher  0.191749   \n",
      "691         1          llama  0.681347   False                 ram  0.120142   \n",
      "1432        1  shopping_cart  0.572349   False  Labrador_retriever  0.151406   \n",
      "422         1       Shih-Tzu  0.179777    True              badger  0.160580   \n",
      "261         1          dingo  0.777124   False            Pembroke  0.127438   \n",
      "\n",
      "      p2_dog                p3   p3_conf  p3_dog  \n",
      "528    False         microwave  0.038110   False  \n",
      "691    False               hog  0.043686   False  \n",
      "1432    True   shopping_basket  0.107102   False  \n",
      "422    False  three-toed_sloth  0.132154   False  \n",
      "261     True          Cardigan  0.024007    True  \n"
     ]
    }
   ],
   "source": [
    "# Showing 5 ramdom samples \n",
    "print(img_pred_df.sample(5))"
   ]
  },
  {
   "cell_type": "code",
   "execution_count": 32,
   "metadata": {},
   "outputs": [
    {
     "name": "stdout",
     "output_type": "stream",
     "text": [
      "<class 'pandas.core.frame.DataFrame'>\n",
      "RangeIndex: 2075 entries, 0 to 2074\n",
      "Data columns (total 12 columns):\n",
      "tweet_id    2075 non-null int64\n",
      "jpg_url     2075 non-null object\n",
      "img_num     2075 non-null int64\n",
      "p1          2075 non-null object\n",
      "p1_conf     2075 non-null float64\n",
      "p1_dog      2075 non-null bool\n",
      "p2          2075 non-null object\n",
      "p2_conf     2075 non-null float64\n",
      "p2_dog      2075 non-null bool\n",
      "p3          2075 non-null object\n",
      "p3_conf     2075 non-null float64\n",
      "p3_dog      2075 non-null bool\n",
      "dtypes: bool(3), float64(3), int64(2), object(4)\n",
      "memory usage: 152.1+ KB\n"
     ]
    }
   ],
   "source": [
    "# Show the data types of each variable\n",
    "img_pred_df.info()"
   ]
  },
  {
   "cell_type": "code",
   "execution_count": 33,
   "metadata": {},
   "outputs": [
    {
     "data": {
      "text/html": [
       "<div>\n",
       "<style scoped>\n",
       "    .dataframe tbody tr th:only-of-type {\n",
       "        vertical-align: middle;\n",
       "    }\n",
       "\n",
       "    .dataframe tbody tr th {\n",
       "        vertical-align: top;\n",
       "    }\n",
       "\n",
       "    .dataframe thead th {\n",
       "        text-align: right;\n",
       "    }\n",
       "</style>\n",
       "<table border=\"1\" class=\"dataframe\">\n",
       "  <thead>\n",
       "    <tr style=\"text-align: right;\">\n",
       "      <th></th>\n",
       "      <th>tweet_id</th>\n",
       "      <th>img_num</th>\n",
       "      <th>p1_conf</th>\n",
       "      <th>p2_conf</th>\n",
       "      <th>p3_conf</th>\n",
       "    </tr>\n",
       "  </thead>\n",
       "  <tbody>\n",
       "    <tr>\n",
       "      <th>count</th>\n",
       "      <td>2.075000e+03</td>\n",
       "      <td>2075.000000</td>\n",
       "      <td>2075.000000</td>\n",
       "      <td>2.075000e+03</td>\n",
       "      <td>2.075000e+03</td>\n",
       "    </tr>\n",
       "    <tr>\n",
       "      <th>mean</th>\n",
       "      <td>7.384514e+17</td>\n",
       "      <td>1.203855</td>\n",
       "      <td>0.594548</td>\n",
       "      <td>1.345886e-01</td>\n",
       "      <td>6.032417e-02</td>\n",
       "    </tr>\n",
       "    <tr>\n",
       "      <th>std</th>\n",
       "      <td>6.785203e+16</td>\n",
       "      <td>0.561875</td>\n",
       "      <td>0.271174</td>\n",
       "      <td>1.006657e-01</td>\n",
       "      <td>5.090593e-02</td>\n",
       "    </tr>\n",
       "    <tr>\n",
       "      <th>min</th>\n",
       "      <td>6.660209e+17</td>\n",
       "      <td>1.000000</td>\n",
       "      <td>0.044333</td>\n",
       "      <td>1.011300e-08</td>\n",
       "      <td>1.740170e-10</td>\n",
       "    </tr>\n",
       "    <tr>\n",
       "      <th>25%</th>\n",
       "      <td>6.764835e+17</td>\n",
       "      <td>1.000000</td>\n",
       "      <td>0.364412</td>\n",
       "      <td>5.388625e-02</td>\n",
       "      <td>1.622240e-02</td>\n",
       "    </tr>\n",
       "    <tr>\n",
       "      <th>50%</th>\n",
       "      <td>7.119988e+17</td>\n",
       "      <td>1.000000</td>\n",
       "      <td>0.588230</td>\n",
       "      <td>1.181810e-01</td>\n",
       "      <td>4.944380e-02</td>\n",
       "    </tr>\n",
       "    <tr>\n",
       "      <th>75%</th>\n",
       "      <td>7.932034e+17</td>\n",
       "      <td>1.000000</td>\n",
       "      <td>0.843855</td>\n",
       "      <td>1.955655e-01</td>\n",
       "      <td>9.180755e-02</td>\n",
       "    </tr>\n",
       "    <tr>\n",
       "      <th>max</th>\n",
       "      <td>8.924206e+17</td>\n",
       "      <td>4.000000</td>\n",
       "      <td>1.000000</td>\n",
       "      <td>4.880140e-01</td>\n",
       "      <td>2.734190e-01</td>\n",
       "    </tr>\n",
       "  </tbody>\n",
       "</table>\n",
       "</div>"
      ],
      "text/plain": [
       "           tweet_id      img_num      p1_conf       p2_conf       p3_conf\n",
       "count  2.075000e+03  2075.000000  2075.000000  2.075000e+03  2.075000e+03\n",
       "mean   7.384514e+17     1.203855     0.594548  1.345886e-01  6.032417e-02\n",
       "std    6.785203e+16     0.561875     0.271174  1.006657e-01  5.090593e-02\n",
       "min    6.660209e+17     1.000000     0.044333  1.011300e-08  1.740170e-10\n",
       "25%    6.764835e+17     1.000000     0.364412  5.388625e-02  1.622240e-02\n",
       "50%    7.119988e+17     1.000000     0.588230  1.181810e-01  4.944380e-02\n",
       "75%    7.932034e+17     1.000000     0.843855  1.955655e-01  9.180755e-02\n",
       "max    8.924206e+17     4.000000     1.000000  4.880140e-01  2.734190e-01"
      ]
     },
     "execution_count": 33,
     "metadata": {},
     "output_type": "execute_result"
    }
   ],
   "source": [
    "# Check descriptive statistics of img_pred_df\n",
    "img_pred_df.describe()"
   ]
  },
  {
   "cell_type": "code",
   "execution_count": 34,
   "metadata": {},
   "outputs": [
    {
     "name": "stdout",
     "output_type": "stream",
     "text": [
      "Number of Duplicated entries in img_pred_df: \n",
      "0\n"
     ]
    }
   ],
   "source": [
    "# Show number of duplicated entries in img_pred_df dataset\n",
    "print('Number of Duplicated entries in img_pred_df: ' \n",
    "      + '\\n' +str(sum(img_pred_df.duplicated())))"
   ]
  },
  {
   "cell_type": "code",
   "execution_count": 35,
   "metadata": {},
   "outputs": [
    {
     "name": "stdout",
     "output_type": "stream",
     "text": [
      "Value Counts for P1\n",
      "\n",
      "golden_retriever             150\n",
      "Labrador_retriever           100\n",
      "Pembroke                      89\n",
      "Chihuahua                     83\n",
      "pug                           57\n",
      "chow                          44\n",
      "Samoyed                       43\n",
      "toy_poodle                    39\n",
      "Pomeranian                    38\n",
      "malamute                      30\n",
      "cocker_spaniel                30\n",
      "French_bulldog                26\n",
      "Chesapeake_Bay_retriever      23\n",
      "miniature_pinscher            23\n",
      "seat_belt                     22\n",
      "Siberian_husky                20\n",
      "German_shepherd               20\n",
      "Staffordshire_bullterrier     20\n",
      "Cardigan                      19\n",
      "web_site                      19\n",
      "Maltese_dog                   18\n",
      "teddy                         18\n",
      "Shetland_sheepdog             18\n",
      "Eskimo_dog                    18\n",
      "beagle                        18\n",
      "Lakeland_terrier              17\n",
      "Rottweiler                    17\n",
      "Shih-Tzu                      17\n",
      "Italian_greyhound             16\n",
      "kuvasz                        16\n",
      "                            ... \n",
      "walking_stick                  1\n",
      "Scotch_terrier                 1\n",
      "tailed_frog                    1\n",
      "piggy_bank                     1\n",
      "pool_table                     1\n",
      "clog                           1\n",
      "quilt                          1\n",
      "Egyptian_cat                   1\n",
      "tiger_shark                    1\n",
      "grille                         1\n",
      "scorpion                       1\n",
      "ocarina                        1\n",
      "tricycle                       1\n",
      "boathouse                      1\n",
      "military_uniform               1\n",
      "rotisserie                     1\n",
      "hare                           1\n",
      "black-footed_ferret            1\n",
      "canoe                          1\n",
      "radio_telescope                1\n",
      "bearskin                       1\n",
      "soccer_ball                    1\n",
      "earthstar                      1\n",
      "pillow                         1\n",
      "starfish                       1\n",
      "microwave                      1\n",
      "book_jacket                    1\n",
      "terrapin                       1\n",
      "hummingbird                    1\n",
      "envelope                       1\n",
      "Name: p1, Length: 378, dtype: int64\n",
      "\n",
      "Value Counts for P2\n",
      "\n",
      "Labrador_retriever                104\n",
      "golden_retriever                   92\n",
      "Cardigan                           73\n",
      "Chihuahua                          44\n",
      "Pomeranian                         42\n",
      "French_bulldog                     41\n",
      "Chesapeake_Bay_retriever           41\n",
      "toy_poodle                         37\n",
      "cocker_spaniel                     34\n",
      "Siberian_husky                     33\n",
      "miniature_poodle                   33\n",
      "beagle                             28\n",
      "Eskimo_dog                         27\n",
      "Pembroke                           27\n",
      "collie                             27\n",
      "kuvasz                             26\n",
      "Italian_greyhound                  22\n",
      "Pekinese                           21\n",
      "American_Staffordshire_terrier     21\n",
      "malinois                           20\n",
      "Samoyed                            20\n",
      "chow                               20\n",
      "toy_terrier                        20\n",
      "miniature_pinscher                 20\n",
      "Norwegian_elkhound                 19\n",
      "Boston_bull                        19\n",
      "Staffordshire_bullterrier          18\n",
      "Irish_terrier                      17\n",
      "pug                                17\n",
      "Shih-Tzu                           16\n",
      "                                 ... \n",
      "goose                               1\n",
      "otter                               1\n",
      "sombrero                            1\n",
      "racket                              1\n",
      "spatula                             1\n",
      "affenpinscher                       1\n",
      "cockroach                           1\n",
      "chain_mail                          1\n",
      "bathing_cap                         1\n",
      "pickup                              1\n",
      "bearskin                            1\n",
      "EntleBucher                         1\n",
      "sweatshirt                          1\n",
      "canoe                               1\n",
      "Bernese_mountain_dog                1\n",
      "cougar                              1\n",
      "promontory                          1\n",
      "tray                                1\n",
      "sea_urchin                          1\n",
      "stove                               1\n",
      "bucket                              1\n",
      "quail                               1\n",
      "armadillo                           1\n",
      "siamang                             1\n",
      "cab                                 1\n",
      "Madagascar_cat                      1\n",
      "bib                                 1\n",
      "sock                                1\n",
      "cloak                               1\n",
      "apron                               1\n",
      "Name: p2, Length: 405, dtype: int64\n",
      "\n",
      "Value Counts for P3\n",
      "\n",
      "Labrador_retriever                79\n",
      "Chihuahua                         58\n",
      "golden_retriever                  48\n",
      "Eskimo_dog                        38\n",
      "kelpie                            35\n",
      "kuvasz                            34\n",
      "Staffordshire_bullterrier         32\n",
      "chow                              32\n",
      "beagle                            31\n",
      "cocker_spaniel                    31\n",
      "Pomeranian                        29\n",
      "toy_poodle                        29\n",
      "Pekinese                          29\n",
      "Pembroke                          27\n",
      "Chesapeake_Bay_retriever          27\n",
      "Great_Pyrenees                    27\n",
      "French_bulldog                    26\n",
      "malamute                          26\n",
      "American_Staffordshire_terrier    24\n",
      "pug                               23\n",
      "Cardigan                          23\n",
      "basenji                           21\n",
      "bull_mastiff                      20\n",
      "toy_terrier                       20\n",
      "Siberian_husky                    19\n",
      "Boston_bull                       17\n",
      "Shetland_sheepdog                 17\n",
      "Lakeland_terrier                  16\n",
      "boxer                             16\n",
      "doormat                           16\n",
      "                                  ..\n",
      "shovel                             1\n",
      "snorkel                            1\n",
      "mountain_tent                      1\n",
      "restaurant                         1\n",
      "maze                               1\n",
      "binder                             1\n",
      "axolotl                            1\n",
      "common_newt                        1\n",
      "bow                                1\n",
      "wolf_spider                        1\n",
      "bannister                          1\n",
      "pier                               1\n",
      "desktop_computer                   1\n",
      "jaguar                             1\n",
      "chimpanzee                         1\n",
      "power_drill                        1\n",
      "rhinoceros_beetle                  1\n",
      "zebra                              1\n",
      "eel                                1\n",
      "acorn                              1\n",
      "rapeseed                           1\n",
      "panpipe                            1\n",
      "broccoli                           1\n",
      "jersey                             1\n",
      "pool_table                         1\n",
      "croquet_ball                       1\n",
      "parachute                          1\n",
      "swimming_trunks                    1\n",
      "joystick                           1\n",
      "meerkat                            1\n",
      "Name: p3, Length: 408, dtype: int64\n"
     ]
    }
   ],
   "source": [
    "# Show the number of entries for each unique element \n",
    "# under the variables P1, P2, P3. \n",
    "\n",
    "print('Value Counts for P1' + '\\n')\n",
    "print(img_pred_df['p1'].value_counts())  \n",
    "print('\\n' + 'Value Counts for P2' + '\\n')\n",
    "print(img_pred_df['p2'].value_counts()) \n",
    "print('\\n' + 'Value Counts for P3' + '\\n')\n",
    "print(img_pred_df['p3'].value_counts()) "
   ]
  },
  {
   "cell_type": "code",
   "execution_count": 36,
   "metadata": {},
   "outputs": [
    {
     "data": {
      "text/plain": [
       "Index(['tweet_id', 'favorite_count', 'retweet_count'], dtype='object')"
      ]
     },
     "execution_count": 36,
     "metadata": {},
     "output_type": "execute_result"
    }
   ],
   "source": [
    "# List all of tweet_json dataset variables \n",
    "tweet_json.columns"
   ]
  },
  {
   "cell_type": "code",
   "execution_count": 37,
   "metadata": {},
   "outputs": [
    {
     "data": {
      "text/html": [
       "<div>\n",
       "<style scoped>\n",
       "    .dataframe tbody tr th:only-of-type {\n",
       "        vertical-align: middle;\n",
       "    }\n",
       "\n",
       "    .dataframe tbody tr th {\n",
       "        vertical-align: top;\n",
       "    }\n",
       "\n",
       "    .dataframe thead th {\n",
       "        text-align: right;\n",
       "    }\n",
       "</style>\n",
       "<table border=\"1\" class=\"dataframe\">\n",
       "  <thead>\n",
       "    <tr style=\"text-align: right;\">\n",
       "      <th></th>\n",
       "      <th>tweet_id</th>\n",
       "      <th>favorite_count</th>\n",
       "      <th>retweet_count</th>\n",
       "    </tr>\n",
       "  </thead>\n",
       "  <tbody>\n",
       "    <tr>\n",
       "      <th>0</th>\n",
       "      <td>666020888022790149</td>\n",
       "      <td>2562</td>\n",
       "      <td>515</td>\n",
       "    </tr>\n",
       "    <tr>\n",
       "      <th>1</th>\n",
       "      <td>666029285002620928</td>\n",
       "      <td>130</td>\n",
       "      <td>47</td>\n",
       "    </tr>\n",
       "    <tr>\n",
       "      <th>2</th>\n",
       "      <td>666033412701032449</td>\n",
       "      <td>125</td>\n",
       "      <td>44</td>\n",
       "    </tr>\n",
       "  </tbody>\n",
       "</table>\n",
       "</div>"
      ],
      "text/plain": [
       "             tweet_id  favorite_count  retweet_count\n",
       "0  666020888022790149            2562            515\n",
       "1  666029285002620928             130             47\n",
       "2  666033412701032449             125             44"
      ]
     },
     "execution_count": 37,
     "metadata": {},
     "output_type": "execute_result"
    }
   ],
   "source": [
    "# Showing the first 5 rows of tweet_json dataset\n",
    "tweet_json.head(3)"
   ]
  },
  {
   "cell_type": "code",
   "execution_count": 38,
   "metadata": {},
   "outputs": [
    {
     "data": {
      "text/html": [
       "<div>\n",
       "<style scoped>\n",
       "    .dataframe tbody tr th:only-of-type {\n",
       "        vertical-align: middle;\n",
       "    }\n",
       "\n",
       "    .dataframe tbody tr th {\n",
       "        vertical-align: top;\n",
       "    }\n",
       "\n",
       "    .dataframe thead th {\n",
       "        text-align: right;\n",
       "    }\n",
       "</style>\n",
       "<table border=\"1\" class=\"dataframe\">\n",
       "  <thead>\n",
       "    <tr style=\"text-align: right;\">\n",
       "      <th></th>\n",
       "      <th>tweet_id</th>\n",
       "      <th>favorite_count</th>\n",
       "      <th>retweet_count</th>\n",
       "    </tr>\n",
       "  </thead>\n",
       "  <tbody>\n",
       "    <tr>\n",
       "      <th>2353</th>\n",
       "      <td>892420643555336193</td>\n",
       "      <td>38585</td>\n",
       "      <td>8529</td>\n",
       "    </tr>\n",
       "    <tr>\n",
       "      <th>2354</th>\n",
       "      <td>892420643555336193</td>\n",
       "      <td>38585</td>\n",
       "      <td>8529</td>\n",
       "    </tr>\n",
       "    <tr>\n",
       "      <th>2355</th>\n",
       "      <td>892420643555336193</td>\n",
       "      <td>38585</td>\n",
       "      <td>8529</td>\n",
       "    </tr>\n",
       "  </tbody>\n",
       "</table>\n",
       "</div>"
      ],
      "text/plain": [
       "                tweet_id  favorite_count  retweet_count\n",
       "2353  892420643555336193           38585           8529\n",
       "2354  892420643555336193           38585           8529\n",
       "2355  892420643555336193           38585           8529"
      ]
     },
     "execution_count": 38,
     "metadata": {},
     "output_type": "execute_result"
    }
   ],
   "source": [
    "# Showing the last 5 rows of tweet_json dataset\n",
    "tweet_json.tail(3)"
   ]
  },
  {
   "cell_type": "code",
   "execution_count": 39,
   "metadata": {},
   "outputs": [
    {
     "data": {
      "text/html": [
       "<div>\n",
       "<style scoped>\n",
       "    .dataframe tbody tr th:only-of-type {\n",
       "        vertical-align: middle;\n",
       "    }\n",
       "\n",
       "    .dataframe tbody tr th {\n",
       "        vertical-align: top;\n",
       "    }\n",
       "\n",
       "    .dataframe thead th {\n",
       "        text-align: right;\n",
       "    }\n",
       "</style>\n",
       "<table border=\"1\" class=\"dataframe\">\n",
       "  <thead>\n",
       "    <tr style=\"text-align: right;\">\n",
       "      <th></th>\n",
       "      <th>tweet_id</th>\n",
       "      <th>favorite_count</th>\n",
       "      <th>retweet_count</th>\n",
       "    </tr>\n",
       "  </thead>\n",
       "  <tbody>\n",
       "    <tr>\n",
       "      <th>2323</th>\n",
       "      <td>888078434458587136</td>\n",
       "      <td>21653</td>\n",
       "      <td>3486</td>\n",
       "    </tr>\n",
       "    <tr>\n",
       "      <th>1133</th>\n",
       "      <td>714258258790387713</td>\n",
       "      <td>3181</td>\n",
       "      <td>778</td>\n",
       "    </tr>\n",
       "    <tr>\n",
       "      <th>1441</th>\n",
       "      <td>757400162377592832</td>\n",
       "      <td>16293</td>\n",
       "      <td>7527</td>\n",
       "    </tr>\n",
       "  </tbody>\n",
       "</table>\n",
       "</div>"
      ],
      "text/plain": [
       "                tweet_id  favorite_count  retweet_count\n",
       "2323  888078434458587136           21653           3486\n",
       "1133  714258258790387713            3181            778\n",
       "1441  757400162377592832           16293           7527"
      ]
     },
     "execution_count": 39,
     "metadata": {},
     "output_type": "execute_result"
    }
   ],
   "source": [
    "# Showing 5 ramdom samples \n",
    "tweet_json.sample(3)"
   ]
  },
  {
   "cell_type": "code",
   "execution_count": 40,
   "metadata": {},
   "outputs": [
    {
     "name": "stdout",
     "output_type": "stream",
     "text": [
      "<class 'pandas.core.frame.DataFrame'>\n",
      "RangeIndex: 2356 entries, 0 to 2355\n",
      "Data columns (total 3 columns):\n",
      "tweet_id          2356 non-null int64\n",
      "favorite_count    2356 non-null int64\n",
      "retweet_count     2356 non-null int64\n",
      "dtypes: int64(3)\n",
      "memory usage: 55.3 KB\n"
     ]
    }
   ],
   "source": [
    "# Show the data types of each variable\n",
    "tweet_json.info()"
   ]
  },
  {
   "cell_type": "code",
   "execution_count": 41,
   "metadata": {},
   "outputs": [
    {
     "data": {
      "text/html": [
       "<div>\n",
       "<style scoped>\n",
       "    .dataframe tbody tr th:only-of-type {\n",
       "        vertical-align: middle;\n",
       "    }\n",
       "\n",
       "    .dataframe tbody tr th {\n",
       "        vertical-align: top;\n",
       "    }\n",
       "\n",
       "    .dataframe thead th {\n",
       "        text-align: right;\n",
       "    }\n",
       "</style>\n",
       "<table border=\"1\" class=\"dataframe\">\n",
       "  <thead>\n",
       "    <tr style=\"text-align: right;\">\n",
       "      <th></th>\n",
       "      <th>tweet_id</th>\n",
       "      <th>favorite_count</th>\n",
       "      <th>retweet_count</th>\n",
       "    </tr>\n",
       "  </thead>\n",
       "  <tbody>\n",
       "    <tr>\n",
       "      <th>count</th>\n",
       "      <td>2.356000e+03</td>\n",
       "      <td>2356.000000</td>\n",
       "      <td>2356.000000</td>\n",
       "    </tr>\n",
       "    <tr>\n",
       "      <th>mean</th>\n",
       "      <td>7.431053e+17</td>\n",
       "      <td>8212.123514</td>\n",
       "      <td>3016.802632</td>\n",
       "    </tr>\n",
       "    <tr>\n",
       "      <th>std</th>\n",
       "      <td>6.907537e+16</td>\n",
       "      <td>12379.509271</td>\n",
       "      <td>4951.470774</td>\n",
       "    </tr>\n",
       "    <tr>\n",
       "      <th>min</th>\n",
       "      <td>6.660209e+17</td>\n",
       "      <td>0.000000</td>\n",
       "      <td>0.000000</td>\n",
       "    </tr>\n",
       "    <tr>\n",
       "      <th>25%</th>\n",
       "      <td>6.783989e+17</td>\n",
       "      <td>1409.250000</td>\n",
       "      <td>604.000000</td>\n",
       "    </tr>\n",
       "    <tr>\n",
       "      <th>50%</th>\n",
       "      <td>7.196279e+17</td>\n",
       "      <td>3563.000000</td>\n",
       "      <td>1418.000000</td>\n",
       "    </tr>\n",
       "    <tr>\n",
       "      <th>75%</th>\n",
       "      <td>7.998353e+17</td>\n",
       "      <td>10115.250000</td>\n",
       "      <td>3514.250000</td>\n",
       "    </tr>\n",
       "    <tr>\n",
       "      <th>max</th>\n",
       "      <td>8.924206e+17</td>\n",
       "      <td>142530.000000</td>\n",
       "      <td>76826.000000</td>\n",
       "    </tr>\n",
       "  </tbody>\n",
       "</table>\n",
       "</div>"
      ],
      "text/plain": [
       "           tweet_id  favorite_count  retweet_count\n",
       "count  2.356000e+03     2356.000000    2356.000000\n",
       "mean   7.431053e+17     8212.123514    3016.802632\n",
       "std    6.907537e+16    12379.509271    4951.470774\n",
       "min    6.660209e+17        0.000000       0.000000\n",
       "25%    6.783989e+17     1409.250000     604.000000\n",
       "50%    7.196279e+17     3563.000000    1418.000000\n",
       "75%    7.998353e+17    10115.250000    3514.250000\n",
       "max    8.924206e+17   142530.000000   76826.000000"
      ]
     },
     "execution_count": 41,
     "metadata": {},
     "output_type": "execute_result"
    }
   ],
   "source": [
    "# Check descriptive statistics of tweet_json\n",
    "tweet_json.describe()"
   ]
  },
  {
   "cell_type": "code",
   "execution_count": 42,
   "metadata": {},
   "outputs": [
    {
     "name": "stdout",
     "output_type": "stream",
     "text": [
      "Number of Duplicated entries in tweet_json: \n",
      "13\n"
     ]
    }
   ],
   "source": [
    "# Show number of duplicated entries in tweet_json dataset\n",
    "print('Number of Duplicated entries in tweet_json: ' \n",
    "      + '\\n' +str(sum(tweet_json.duplicated())))"
   ]
  },
  {
   "cell_type": "code",
   "execution_count": 43,
   "metadata": {},
   "outputs": [
    {
     "data": {
      "text/html": [
       "<div>\n",
       "<style scoped>\n",
       "    .dataframe tbody tr th:only-of-type {\n",
       "        vertical-align: middle;\n",
       "    }\n",
       "\n",
       "    .dataframe tbody tr th {\n",
       "        vertical-align: top;\n",
       "    }\n",
       "\n",
       "    .dataframe thead th {\n",
       "        text-align: right;\n",
       "    }\n",
       "</style>\n",
       "<table border=\"1\" class=\"dataframe\">\n",
       "  <thead>\n",
       "    <tr style=\"text-align: right;\">\n",
       "      <th></th>\n",
       "      <th>tweet_id</th>\n",
       "      <th>favorite_count</th>\n",
       "      <th>retweet_count</th>\n",
       "    </tr>\n",
       "  </thead>\n",
       "  <tbody>\n",
       "    <tr>\n",
       "      <th>2343</th>\n",
       "      <td>892420643555336193</td>\n",
       "      <td>38585</td>\n",
       "      <td>8529</td>\n",
       "    </tr>\n",
       "    <tr>\n",
       "      <th>2344</th>\n",
       "      <td>892420643555336193</td>\n",
       "      <td>38585</td>\n",
       "      <td>8529</td>\n",
       "    </tr>\n",
       "    <tr>\n",
       "      <th>2345</th>\n",
       "      <td>892420643555336193</td>\n",
       "      <td>38585</td>\n",
       "      <td>8529</td>\n",
       "    </tr>\n",
       "    <tr>\n",
       "      <th>2346</th>\n",
       "      <td>892420643555336193</td>\n",
       "      <td>38585</td>\n",
       "      <td>8529</td>\n",
       "    </tr>\n",
       "    <tr>\n",
       "      <th>2347</th>\n",
       "      <td>892420643555336193</td>\n",
       "      <td>38585</td>\n",
       "      <td>8529</td>\n",
       "    </tr>\n",
       "    <tr>\n",
       "      <th>2348</th>\n",
       "      <td>892420643555336193</td>\n",
       "      <td>38585</td>\n",
       "      <td>8529</td>\n",
       "    </tr>\n",
       "    <tr>\n",
       "      <th>2349</th>\n",
       "      <td>892420643555336193</td>\n",
       "      <td>38585</td>\n",
       "      <td>8529</td>\n",
       "    </tr>\n",
       "    <tr>\n",
       "      <th>2350</th>\n",
       "      <td>892420643555336193</td>\n",
       "      <td>38585</td>\n",
       "      <td>8529</td>\n",
       "    </tr>\n",
       "    <tr>\n",
       "      <th>2351</th>\n",
       "      <td>892420643555336193</td>\n",
       "      <td>38585</td>\n",
       "      <td>8529</td>\n",
       "    </tr>\n",
       "    <tr>\n",
       "      <th>2352</th>\n",
       "      <td>892420643555336193</td>\n",
       "      <td>38585</td>\n",
       "      <td>8529</td>\n",
       "    </tr>\n",
       "    <tr>\n",
       "      <th>2353</th>\n",
       "      <td>892420643555336193</td>\n",
       "      <td>38585</td>\n",
       "      <td>8529</td>\n",
       "    </tr>\n",
       "    <tr>\n",
       "      <th>2354</th>\n",
       "      <td>892420643555336193</td>\n",
       "      <td>38585</td>\n",
       "      <td>8529</td>\n",
       "    </tr>\n",
       "    <tr>\n",
       "      <th>2355</th>\n",
       "      <td>892420643555336193</td>\n",
       "      <td>38585</td>\n",
       "      <td>8529</td>\n",
       "    </tr>\n",
       "  </tbody>\n",
       "</table>\n",
       "</div>"
      ],
      "text/plain": [
       "                tweet_id  favorite_count  retweet_count\n",
       "2343  892420643555336193           38585           8529\n",
       "2344  892420643555336193           38585           8529\n",
       "2345  892420643555336193           38585           8529\n",
       "2346  892420643555336193           38585           8529\n",
       "2347  892420643555336193           38585           8529\n",
       "2348  892420643555336193           38585           8529\n",
       "2349  892420643555336193           38585           8529\n",
       "2350  892420643555336193           38585           8529\n",
       "2351  892420643555336193           38585           8529\n",
       "2352  892420643555336193           38585           8529\n",
       "2353  892420643555336193           38585           8529\n",
       "2354  892420643555336193           38585           8529\n",
       "2355  892420643555336193           38585           8529"
      ]
     },
     "execution_count": 43,
     "metadata": {},
     "output_type": "execute_result"
    }
   ],
   "source": [
    "# Find out what the duplicated entries are\n",
    "tweet_json[tweet_json.duplicated()]"
   ]
  },
  {
   "cell_type": "markdown",
   "metadata": {},
   "source": [
    "# Clean Data"
   ]
  },
  {
   "cell_type": "code",
   "execution_count": 44,
   "metadata": {},
   "outputs": [],
   "source": [
    "# Copy dataframes for the cleaning process\n",
    "twitter_archive_clean = twitter_archive.copy()\n",
    "img_pred_df_clean = img_pred_df.copy()\n",
    "tweet_json_clean = tweet_json.copy()"
   ]
  },
  {
   "cell_type": "markdown",
   "metadata": {},
   "source": [
    "## Quality Issue #1"
   ]
  },
  {
   "cell_type": "markdown",
   "metadata": {},
   "source": [
    "### Define"
   ]
  },
  {
   "cell_type": "markdown",
   "metadata": {},
   "source": [
    "Convert the data type for `timestamp` variable to datetime"
   ]
  },
  {
   "cell_type": "markdown",
   "metadata": {},
   "source": [
    "### Code "
   ]
  },
  {
   "cell_type": "code",
   "execution_count": 45,
   "metadata": {},
   "outputs": [],
   "source": [
    "# Convert `timestamp` to datetime\n",
    "twitter_archive_clean['timestamp'] = pd.to_datetime(twitter_archive_clean['timestamp'])"
   ]
  },
  {
   "cell_type": "code",
   "execution_count": 46,
   "metadata": {},
   "outputs": [],
   "source": [
    "# To remove the hours and minutes by applying lambda and use date()\n",
    "twitter_archive_clean['timestamp'] = pd.to_datetime(twitter_archive_clean['timestamp']).apply(lambda x: x.date())"
   ]
  },
  {
   "cell_type": "markdown",
   "metadata": {},
   "source": [
    "### Test"
   ]
  },
  {
   "cell_type": "code",
   "execution_count": 47,
   "metadata": {},
   "outputs": [
    {
     "data": {
      "text/plain": [
       "tweet_id                        int64\n",
       "in_reply_to_status_id         float64\n",
       "in_reply_to_user_id           float64\n",
       "timestamp                      object\n",
       "source                         object\n",
       "text                           object\n",
       "retweeted_status_id           float64\n",
       "retweeted_status_user_id      float64\n",
       "retweeted_status_timestamp     object\n",
       "expanded_urls                  object\n",
       "rating_numerator                int64\n",
       "rating_denominator              int64\n",
       "name                           object\n",
       "doggo                          object\n",
       "floofer                        object\n",
       "pupper                         object\n",
       "puppo                          object\n",
       "dtype: object"
      ]
     },
     "execution_count": 47,
     "metadata": {},
     "output_type": "execute_result"
    }
   ],
   "source": [
    "# Check datatypes for the following variables\n",
    "twitter_archive_clean.dtypes"
   ]
  },
  {
   "cell_type": "markdown",
   "metadata": {},
   "source": [
    "## Quality Issue #2"
   ]
  },
  {
   "cell_type": "markdown",
   "metadata": {},
   "source": [
    "### Define "
   ]
  },
  {
   "cell_type": "markdown",
   "metadata": {},
   "source": [
    "Convert `tweet_id` to string"
   ]
  },
  {
   "cell_type": "markdown",
   "metadata": {},
   "source": [
    "### Code "
   ]
  },
  {
   "cell_type": "code",
   "execution_count": 48,
   "metadata": {},
   "outputs": [],
   "source": [
    "# Convert of the tweet ids to string\n",
    "twitter_archive_clean['tweet_id'] = twitter_archive_clean['tweet_id'].astype(str)\n",
    "img_pred_df_clean['tweet_id'] = img_pred_df_clean['tweet_id'].astype(str)\n",
    "tweet_json_clean['tweet_id'] = tweet_json_clean['tweet_id'].astype(str)"
   ]
  },
  {
   "cell_type": "markdown",
   "metadata": {},
   "source": [
    "### Test "
   ]
  },
  {
   "cell_type": "code",
   "execution_count": 49,
   "metadata": {},
   "outputs": [
    {
     "name": "stdout",
     "output_type": "stream",
     "text": [
      "object\n",
      "object\n",
      "object\n"
     ]
    }
   ],
   "source": [
    "print(twitter_archive_clean['tweet_id'].dtypes)\n",
    "print(img_pred_df_clean['tweet_id'].dtypes)\n",
    "print(tweet_json_clean['tweet_id'].dtypes)"
   ]
  },
  {
   "cell_type": "markdown",
   "metadata": {},
   "source": [
    "## Quality Issue #3"
   ]
  },
  {
   "cell_type": "markdown",
   "metadata": {},
   "source": [
    "### Define"
   ]
  },
  {
   "cell_type": "markdown",
   "metadata": {},
   "source": [
    "Remove observations that have retweets and replies"
   ]
  },
  {
   "cell_type": "markdown",
   "metadata": {},
   "source": [
    "### Code "
   ]
  },
  {
   "cell_type": "code",
   "execution_count": 50,
   "metadata": {},
   "outputs": [],
   "source": [
    "# Keep only the null values of retweets and replies and assign them to twitter_archive_clean dataframe\n",
    "not_retweet = twitter_archive_clean['retweeted_status_user_id'].isnull()\n",
    "not_reply = twitter_archive_clean['in_reply_to_user_id'].isnull()\n",
    "twitter_archive_clean = twitter_archive_clean[not_retweet&not_reply] "
   ]
  },
  {
   "cell_type": "code",
   "execution_count": 51,
   "metadata": {},
   "outputs": [
    {
     "name": "stdout",
     "output_type": "stream",
     "text": [
      "<class 'pandas.core.frame.DataFrame'>\n",
      "Int64Index: 2097 entries, 2355 to 0\n",
      "Data columns (total 17 columns):\n",
      "tweet_id                      2097 non-null object\n",
      "in_reply_to_status_id         0 non-null float64\n",
      "in_reply_to_user_id           0 non-null float64\n",
      "timestamp                     2097 non-null object\n",
      "source                        2097 non-null object\n",
      "text                          2097 non-null object\n",
      "retweeted_status_id           0 non-null float64\n",
      "retweeted_status_user_id      0 non-null float64\n",
      "retweeted_status_timestamp    0 non-null object\n",
      "expanded_urls                 2094 non-null object\n",
      "rating_numerator              2097 non-null int64\n",
      "rating_denominator            2097 non-null int64\n",
      "name                          2097 non-null object\n",
      "doggo                         2097 non-null object\n",
      "floofer                       2097 non-null object\n",
      "pupper                        2097 non-null object\n",
      "puppo                         2097 non-null object\n",
      "dtypes: float64(4), int64(2), object(11)\n",
      "memory usage: 294.9+ KB\n"
     ]
    }
   ],
   "source": [
    "# After the assignnment to twitter_archive you can now see the retweets and replies have been removed.\n",
    "twitter_archive_clean.info()"
   ]
  },
  {
   "cell_type": "code",
   "execution_count": 52,
   "metadata": {},
   "outputs": [],
   "source": [
    "# Remove the retweet and reply variables now that there are 0 observation \n",
    "twitter_archive_clean = twitter_archive_clean.drop(['in_reply_to_status_id',\n",
    "                                                    'in_reply_to_user_id',\n",
    "                                                    'retweeted_status_id', \n",
    "                                                   'retweeted_status_user_id', \n",
    "                                                   'retweeted_status_timestamp'], \n",
    "                                                   axis=1)"
   ]
  },
  {
   "cell_type": "markdown",
   "metadata": {},
   "source": [
    "### Test"
   ]
  },
  {
   "cell_type": "code",
   "execution_count": 53,
   "metadata": {},
   "outputs": [
    {
     "name": "stdout",
     "output_type": "stream",
     "text": [
      "<class 'pandas.core.frame.DataFrame'>\n",
      "Int64Index: 2097 entries, 2355 to 0\n",
      "Data columns (total 12 columns):\n",
      "tweet_id              2097 non-null object\n",
      "timestamp             2097 non-null object\n",
      "source                2097 non-null object\n",
      "text                  2097 non-null object\n",
      "expanded_urls         2094 non-null object\n",
      "rating_numerator      2097 non-null int64\n",
      "rating_denominator    2097 non-null int64\n",
      "name                  2097 non-null object\n",
      "doggo                 2097 non-null object\n",
      "floofer               2097 non-null object\n",
      "pupper                2097 non-null object\n",
      "puppo                 2097 non-null object\n",
      "dtypes: int64(2), object(10)\n",
      "memory usage: 213.0+ KB\n"
     ]
    }
   ],
   "source": [
    "# The following variables have now been removed\n",
    "twitter_archive_clean.info()"
   ]
  },
  {
   "cell_type": "markdown",
   "metadata": {},
   "source": [
    "## Quality Issue #3"
   ]
  },
  {
   "cell_type": "markdown",
   "metadata": {},
   "source": [
    "### Define "
   ]
  },
  {
   "cell_type": "markdown",
   "metadata": {},
   "source": [
    "Remove html tags in `source` variable"
   ]
  },
  {
   "cell_type": "markdown",
   "metadata": {},
   "source": [
    "### Code"
   ]
  },
  {
   "cell_type": "code",
   "execution_count": 54,
   "metadata": {},
   "outputs": [],
   "source": [
    "# Stripping out the HTML tags by using the regex expression\n",
    "twitter_archive_clean['source'] = twitter_archive_clean['source'].str.replace(r'<[^>]*>','')"
   ]
  },
  {
   "cell_type": "markdown",
   "metadata": {},
   "source": [
    "### Test "
   ]
  },
  {
   "cell_type": "code",
   "execution_count": 55,
   "metadata": {
    "scrolled": true
   },
   "outputs": [
    {
     "data": {
      "text/plain": [
       "Twitter for iPhone     1964\n",
       "Vine - Make a Scene      91\n",
       "Twitter Web Client       31\n",
       "TweetDeck                11\n",
       "Name: source, dtype: int64"
      ]
     },
     "execution_count": 55,
     "metadata": {},
     "output_type": "execute_result"
    }
   ],
   "source": [
    "# You can now see the following strings without the HTML tags\n",
    "twitter_archive_clean['source'].value_counts()"
   ]
  },
  {
   "cell_type": "code",
   "execution_count": 56,
   "metadata": {},
   "outputs": [
    {
     "data": {
      "text/html": [
       "<div>\n",
       "<style scoped>\n",
       "    .dataframe tbody tr th:only-of-type {\n",
       "        vertical-align: middle;\n",
       "    }\n",
       "\n",
       "    .dataframe tbody tr th {\n",
       "        vertical-align: top;\n",
       "    }\n",
       "\n",
       "    .dataframe thead th {\n",
       "        text-align: right;\n",
       "    }\n",
       "</style>\n",
       "<table border=\"1\" class=\"dataframe\">\n",
       "  <thead>\n",
       "    <tr style=\"text-align: right;\">\n",
       "      <th></th>\n",
       "      <th>tweet_id</th>\n",
       "      <th>source</th>\n",
       "    </tr>\n",
       "  </thead>\n",
       "  <tbody>\n",
       "    <tr>\n",
       "      <th>1665</th>\n",
       "      <td>682750546109968385</td>\n",
       "      <td>Twitter for iPhone</td>\n",
       "    </tr>\n",
       "    <tr>\n",
       "      <th>2308</th>\n",
       "      <td>666817836334096384</td>\n",
       "      <td>Twitter for iPhone</td>\n",
       "    </tr>\n",
       "    <tr>\n",
       "      <th>1225</th>\n",
       "      <td>714141408463036416</td>\n",
       "      <td>Twitter for iPhone</td>\n",
       "    </tr>\n",
       "    <tr>\n",
       "      <th>1733</th>\n",
       "      <td>679777920601223168</td>\n",
       "      <td>Twitter for iPhone</td>\n",
       "    </tr>\n",
       "    <tr>\n",
       "      <th>1072</th>\n",
       "      <td>739979191639244800</td>\n",
       "      <td>Twitter for iPhone</td>\n",
       "    </tr>\n",
       "    <tr>\n",
       "      <th>619</th>\n",
       "      <td>796149749086875649</td>\n",
       "      <td>Twitter for iPhone</td>\n",
       "    </tr>\n",
       "    <tr>\n",
       "      <th>445</th>\n",
       "      <td>819227688460238848</td>\n",
       "      <td>Twitter for iPhone</td>\n",
       "    </tr>\n",
       "    <tr>\n",
       "      <th>93</th>\n",
       "      <td>874057562936811520</td>\n",
       "      <td>Twitter for iPhone</td>\n",
       "    </tr>\n",
       "    <tr>\n",
       "      <th>178</th>\n",
       "      <td>857263160327368704</td>\n",
       "      <td>Twitter for iPhone</td>\n",
       "    </tr>\n",
       "    <tr>\n",
       "      <th>174</th>\n",
       "      <td>858107933456039936</td>\n",
       "      <td>Twitter for iPhone</td>\n",
       "    </tr>\n",
       "  </tbody>\n",
       "</table>\n",
       "</div>"
      ],
      "text/plain": [
       "                tweet_id              source\n",
       "1665  682750546109968385  Twitter for iPhone\n",
       "2308  666817836334096384  Twitter for iPhone\n",
       "1225  714141408463036416  Twitter for iPhone\n",
       "1733  679777920601223168  Twitter for iPhone\n",
       "1072  739979191639244800  Twitter for iPhone\n",
       "619   796149749086875649  Twitter for iPhone\n",
       "445   819227688460238848  Twitter for iPhone\n",
       "93    874057562936811520  Twitter for iPhone\n",
       "178   857263160327368704  Twitter for iPhone\n",
       "174   858107933456039936  Twitter for iPhone"
      ]
     },
     "execution_count": 56,
     "metadata": {},
     "output_type": "execute_result"
    }
   ],
   "source": [
    "# See a sample of the twitter_archive dataframe \n",
    "twitter_archive_clean.loc[:,['tweet_id','source']].sample(10)"
   ]
  },
  {
   "cell_type": "markdown",
   "metadata": {},
   "source": [
    "## Quality Issue #4"
   ]
  },
  {
   "cell_type": "markdown",
   "metadata": {},
   "source": [
    "### Define "
   ]
  },
  {
   "cell_type": "markdown",
   "metadata": {},
   "source": [
    "Remove tweets that do not contain images"
   ]
  },
  {
   "cell_type": "markdown",
   "metadata": {},
   "source": [
    "### Code"
   ]
  },
  {
   "cell_type": "code",
   "execution_count": 57,
   "metadata": {},
   "outputs": [
    {
     "data": {
      "text/plain": [
       "3"
      ]
     },
     "execution_count": 57,
     "metadata": {},
     "output_type": "execute_result"
    }
   ],
   "source": [
    "# Check to see how many observations are null values\n",
    "sum(twitter_archive_clean['expanded_urls'].isnull())"
   ]
  },
  {
   "cell_type": "code",
   "execution_count": 58,
   "metadata": {},
   "outputs": [],
   "source": [
    "# Assign the variable 'expanded_urls' to twitter_archive_clean without any null values\n",
    "twitter_archive_clean = twitter_archive_clean.dropna(subset=['expanded_urls'])"
   ]
  },
  {
   "cell_type": "markdown",
   "metadata": {},
   "source": [
    "### Test "
   ]
  },
  {
   "cell_type": "code",
   "execution_count": 59,
   "metadata": {},
   "outputs": [
    {
     "data": {
      "text/plain": [
       "0"
      ]
     },
     "execution_count": 59,
     "metadata": {},
     "output_type": "execute_result"
    }
   ],
   "source": [
    "# To make sure there are no more null values\n",
    "sum(twitter_archive_clean['expanded_urls'].isnull())"
   ]
  },
  {
   "cell_type": "code",
   "execution_count": 60,
   "metadata": {},
   "outputs": [
    {
     "name": "stdout",
     "output_type": "stream",
     "text": [
      "<class 'pandas.core.frame.DataFrame'>\n",
      "Int64Index: 2094 entries, 2355 to 0\n",
      "Data columns (total 12 columns):\n",
      "tweet_id              2094 non-null object\n",
      "timestamp             2094 non-null object\n",
      "source                2094 non-null object\n",
      "text                  2094 non-null object\n",
      "expanded_urls         2094 non-null object\n",
      "rating_numerator      2094 non-null int64\n",
      "rating_denominator    2094 non-null int64\n",
      "name                  2094 non-null object\n",
      "doggo                 2094 non-null object\n",
      "floofer               2094 non-null object\n",
      "pupper                2094 non-null object\n",
      "puppo                 2094 non-null object\n",
      "dtypes: int64(2), object(10)\n",
      "memory usage: 212.7+ KB\n"
     ]
    }
   ],
   "source": [
    "# The number of observations for 'expanded_urls' have gone down  \n",
    "twitter_archive_clean.info()"
   ]
  },
  {
   "cell_type": "markdown",
   "metadata": {},
   "source": [
    "## Quality Issue #5"
   ]
  },
  {
   "cell_type": "markdown",
   "metadata": {},
   "source": [
    "### Define "
   ]
  },
  {
   "cell_type": "markdown",
   "metadata": {},
   "source": [
    "To convert the rating numerator and rating denominator variables to the datatype 'float'"
   ]
  },
  {
   "cell_type": "markdown",
   "metadata": {},
   "source": [
    "### Code "
   ]
  },
  {
   "cell_type": "code",
   "execution_count": 61,
   "metadata": {},
   "outputs": [],
   "source": [
    "# Convert the variables to float and then assign them to the twitter_archive_clean dataframe\n",
    "twitter_archive_clean[['rating_numerator', 'rating_denominator']] = twitter_archive_clean[['rating_numerator', 'rating_denominator']].astype(float)"
   ]
  },
  {
   "cell_type": "markdown",
   "metadata": {},
   "source": [
    "### Test "
   ]
  },
  {
   "cell_type": "code",
   "execution_count": 62,
   "metadata": {},
   "outputs": [
    {
     "data": {
      "text/plain": [
       "rating_numerator      float64\n",
       "rating_denominator    float64\n",
       "dtype: object"
      ]
     },
     "execution_count": 62,
     "metadata": {},
     "output_type": "execute_result"
    }
   ],
   "source": [
    "# Check to see if they have been converted\n",
    "twitter_archive_clean[['rating_numerator','rating_denominator']].dtypes"
   ]
  },
  {
   "cell_type": "code",
   "execution_count": 63,
   "metadata": {},
   "outputs": [
    {
     "data": {
      "text/html": [
       "<div>\n",
       "<style scoped>\n",
       "    .dataframe tbody tr th:only-of-type {\n",
       "        vertical-align: middle;\n",
       "    }\n",
       "\n",
       "    .dataframe tbody tr th {\n",
       "        vertical-align: top;\n",
       "    }\n",
       "\n",
       "    .dataframe thead th {\n",
       "        text-align: right;\n",
       "    }\n",
       "</style>\n",
       "<table border=\"1\" class=\"dataframe\">\n",
       "  <thead>\n",
       "    <tr style=\"text-align: right;\">\n",
       "      <th></th>\n",
       "      <th>tweet_id</th>\n",
       "      <th>text</th>\n",
       "      <th>rating_numerator</th>\n",
       "      <th>rating_denominator</th>\n",
       "    </tr>\n",
       "  </thead>\n",
       "  <tbody>\n",
       "    <tr>\n",
       "      <th>1103</th>\n",
       "      <td>735256018284875776</td>\n",
       "      <td>This is Kellogg. He accidentally opened the fr...</td>\n",
       "      <td>8.0</td>\n",
       "      <td>10.0</td>\n",
       "    </tr>\n",
       "    <tr>\n",
       "      <th>578</th>\n",
       "      <td>800751577355128832</td>\n",
       "      <td>Say hello to Mauve and Murphy. They're rather ...</td>\n",
       "      <td>12.0</td>\n",
       "      <td>10.0</td>\n",
       "    </tr>\n",
       "    <tr>\n",
       "      <th>1388</th>\n",
       "      <td>700462010979500032</td>\n",
       "      <td>This is Murphy. He's a mini golden retriever. ...</td>\n",
       "      <td>6.0</td>\n",
       "      <td>10.0</td>\n",
       "    </tr>\n",
       "    <tr>\n",
       "      <th>2088</th>\n",
       "      <td>670792680469889025</td>\n",
       "      <td>This is Antony. He's a Sheraton Tetrahedron. S...</td>\n",
       "      <td>7.0</td>\n",
       "      <td>10.0</td>\n",
       "    </tr>\n",
       "    <tr>\n",
       "      <th>697</th>\n",
       "      <td>786595970293370880</td>\n",
       "      <td>This is Dale. He's a real spookster. Did me qu...</td>\n",
       "      <td>11.0</td>\n",
       "      <td>10.0</td>\n",
       "    </tr>\n",
       "  </tbody>\n",
       "</table>\n",
       "</div>"
      ],
      "text/plain": [
       "                tweet_id                                               text  \\\n",
       "1103  735256018284875776  This is Kellogg. He accidentally opened the fr...   \n",
       "578   800751577355128832  Say hello to Mauve and Murphy. They're rather ...   \n",
       "1388  700462010979500032  This is Murphy. He's a mini golden retriever. ...   \n",
       "2088  670792680469889025  This is Antony. He's a Sheraton Tetrahedron. S...   \n",
       "697   786595970293370880  This is Dale. He's a real spookster. Did me qu...   \n",
       "\n",
       "      rating_numerator  rating_denominator  \n",
       "1103               8.0                10.0  \n",
       "578               12.0                10.0  \n",
       "1388               6.0                10.0  \n",
       "2088               7.0                10.0  \n",
       "697               11.0                10.0  "
      ]
     },
     "execution_count": 63,
     "metadata": {},
     "output_type": "execute_result"
    }
   ],
   "source": [
    "# A sample of the twitter_archive_clean dataframe\n",
    "twitter_archive_clean.loc[:,['tweet_id','text','rating_numerator','rating_denominator']].sample(5)"
   ]
  },
  {
   "cell_type": "markdown",
   "metadata": {},
   "source": [
    "## Quality Issue #6"
   ]
  },
  {
   "cell_type": "markdown",
   "metadata": {},
   "source": [
    "### Define"
   ]
  },
  {
   "cell_type": "markdown",
   "metadata": {},
   "source": [
    "Remove any invalid dog names that are lowercase and replace them with 'None'"
   ]
  },
  {
   "cell_type": "markdown",
   "metadata": {},
   "source": [
    "### Code"
   ]
  },
  {
   "cell_type": "code",
   "execution_count": 64,
   "metadata": {},
   "outputs": [],
   "source": [
    "# Search for all of the lowercase names and assign them to lowercase_names  \n",
    "lowercase_names = twitter_archive_clean[twitter_archive_clean['name'].str.islower()]"
   ]
  },
  {
   "cell_type": "code",
   "execution_count": 65,
   "metadata": {},
   "outputs": [
    {
     "data": {
      "text/plain": [
       "a               55\n",
       "the              8\n",
       "an               6\n",
       "one              4\n",
       "very             4\n",
       "quite            3\n",
       "just             3\n",
       "actually         2\n",
       "not              2\n",
       "getting          2\n",
       "unacceptable     1\n",
       "officially       1\n",
       "old              1\n",
       "this             1\n",
       "my               1\n",
       "light            1\n",
       "infuriating      1\n",
       "by               1\n",
       "space            1\n",
       "life             1\n",
       "mad              1\n",
       "his              1\n",
       "incredibly       1\n",
       "all              1\n",
       "such             1\n",
       "Name: name, dtype: int64"
      ]
     },
     "execution_count": 65,
     "metadata": {},
     "output_type": "execute_result"
    }
   ],
   "source": [
    "# See the list of lowercase names\n",
    "lowercase_names['name'].value_counts()"
   ]
  },
  {
   "cell_type": "code",
   "execution_count": 66,
   "metadata": {},
   "outputs": [],
   "source": [
    "# Take out the key values of the lowercase names and assign them to a list  \n",
    "lowercase_names = lowercase_names['name'].value_counts().keys().tolist()"
   ]
  },
  {
   "cell_type": "code",
   "execution_count": 67,
   "metadata": {},
   "outputs": [
    {
     "data": {
      "text/plain": [
       "['a',\n",
       " 'the',\n",
       " 'an',\n",
       " 'one',\n",
       " 'very',\n",
       " 'quite',\n",
       " 'just',\n",
       " 'actually',\n",
       " 'not',\n",
       " 'getting',\n",
       " 'unacceptable',\n",
       " 'officially',\n",
       " 'old',\n",
       " 'this',\n",
       " 'my',\n",
       " 'light',\n",
       " 'infuriating',\n",
       " 'by',\n",
       " 'space',\n",
       " 'life',\n",
       " 'mad',\n",
       " 'his',\n",
       " 'incredibly',\n",
       " 'all',\n",
       " 'such']"
      ]
     },
     "execution_count": 67,
     "metadata": {},
     "output_type": "execute_result"
    }
   ],
   "source": [
    "# All of the lowercase names in a list \n",
    "lowercase_names"
   ]
  },
  {
   "cell_type": "code",
   "execution_count": 68,
   "metadata": {},
   "outputs": [],
   "source": [
    "# Use a for loop to replace the lowercase names to 'None' \n",
    "for dog_name in twitter_archive_clean['name']:\n",
    "    if dog_name in lowercase_names:\n",
    "        twitter_archive_clean[twitter_archive_clean['name'] == dog_name] = None"
   ]
  },
  {
   "cell_type": "markdown",
   "metadata": {},
   "source": [
    "### Test "
   ]
  },
  {
   "cell_type": "code",
   "execution_count": 69,
   "metadata": {},
   "outputs": [
    {
     "data": {
      "text/plain": [
       "None        600\n",
       "Charlie      11\n",
       "Lucy         11\n",
       "Oliver       10\n",
       "Cooper       10\n",
       "Tucker        9\n",
       "Penny         9\n",
       "Lola          8\n",
       "Sadie         8\n",
       "Winston       8\n",
       "Toby          7\n",
       "Daisy         7\n",
       "Bailey        6\n",
       "Oscar         6\n",
       "Bella         6\n",
       "Bo            6\n",
       "Stanley       6\n",
       "Koda          6\n",
       "Jax           6\n",
       "Rusty         5\n",
       "Louis         5\n",
       "Dave          5\n",
       "Milo          5\n",
       "Leo           5\n",
       "Bentley       5\n",
       "Chester       5\n",
       "Scout         5\n",
       "Buddy         5\n",
       "Boomer        4\n",
       "Reggie        4\n",
       "           ... \n",
       "Chloe         1\n",
       "Ridley        1\n",
       "Cedrick       1\n",
       "Nida          1\n",
       "Kane          1\n",
       "Happy         1\n",
       "Ace           1\n",
       "Florence      1\n",
       "Stormy        1\n",
       "Logan         1\n",
       "Cheesy        1\n",
       "Hanz          1\n",
       "Tonks         1\n",
       "William       1\n",
       "Joshwa        1\n",
       "Striker       1\n",
       "Shawwn        1\n",
       "Jeffri        1\n",
       "Tedders       1\n",
       "Chubbs        1\n",
       "Ester         1\n",
       "Dug           1\n",
       "Duddles       1\n",
       "Kellogg       1\n",
       "Cannon        1\n",
       "Beemo         1\n",
       "Blu           1\n",
       "Pupcasso      1\n",
       "Acro          1\n",
       "Lilli         1\n",
       "Name: name, Length: 930, dtype: int64"
      ]
     },
     "execution_count": 69,
     "metadata": {},
     "output_type": "execute_result"
    }
   ],
   "source": [
    "# We can now see all of the lowercase names have been changed to 'None'\n",
    "twitter_archive_clean['name'].value_counts()"
   ]
  },
  {
   "cell_type": "markdown",
   "metadata": {},
   "source": [
    "## Quality Issue #7"
   ]
  },
  {
   "cell_type": "markdown",
   "metadata": {},
   "source": [
    "### Define "
   ]
  },
  {
   "cell_type": "markdown",
   "metadata": {},
   "source": [
    "To capitalise the first letter and remove underscores in variables p1, p2 and p3."
   ]
  },
  {
   "cell_type": "markdown",
   "metadata": {},
   "source": [
    "### Code "
   ]
  },
  {
   "cell_type": "code",
   "execution_count": 70,
   "metadata": {},
   "outputs": [],
   "source": [
    "# Capitalise the first letter of each observation \n",
    "img_pred_df_clean['p1'] = img_pred_df_clean['p1'].str.title()\n",
    "img_pred_df_clean['p2'] = img_pred_df_clean['p2'].str.title()\n",
    "img_pred_df_clean['p3'] = img_pred_df_clean['p3'].str.title()"
   ]
  },
  {
   "cell_type": "code",
   "execution_count": 71,
   "metadata": {},
   "outputs": [],
   "source": [
    "# Remove the underscore and replace them with spaces \n",
    "img_pred_df_clean['p1'] = img_pred_df_clean['p1'].str.replace('_', ' ')\n",
    "img_pred_df_clean['p2'] = img_pred_df_clean['p2'].str.replace('_', ' ')\n",
    "img_pred_df_clean['p3'] = img_pred_df_clean['p3'].str.replace('_', ' ')"
   ]
  },
  {
   "cell_type": "markdown",
   "metadata": {},
   "source": [
    "### Test"
   ]
  },
  {
   "cell_type": "code",
   "execution_count": 72,
   "metadata": {},
   "outputs": [
    {
     "data": {
      "text/html": [
       "<div>\n",
       "<style scoped>\n",
       "    .dataframe tbody tr th:only-of-type {\n",
       "        vertical-align: middle;\n",
       "    }\n",
       "\n",
       "    .dataframe tbody tr th {\n",
       "        vertical-align: top;\n",
       "    }\n",
       "\n",
       "    .dataframe thead th {\n",
       "        text-align: right;\n",
       "    }\n",
       "</style>\n",
       "<table border=\"1\" class=\"dataframe\">\n",
       "  <thead>\n",
       "    <tr style=\"text-align: right;\">\n",
       "      <th></th>\n",
       "      <th>p1</th>\n",
       "      <th>p2</th>\n",
       "      <th>p3</th>\n",
       "    </tr>\n",
       "  </thead>\n",
       "  <tbody>\n",
       "    <tr>\n",
       "      <th>1703</th>\n",
       "      <td>Tibetan Mastiff</td>\n",
       "      <td>Tibetan Terrier</td>\n",
       "      <td>Otterhound</td>\n",
       "    </tr>\n",
       "    <tr>\n",
       "      <th>150</th>\n",
       "      <td>Vacuum</td>\n",
       "      <td>Pug</td>\n",
       "      <td>Toilet Tissue</td>\n",
       "    </tr>\n",
       "    <tr>\n",
       "      <th>1291</th>\n",
       "      <td>Labrador Retriever</td>\n",
       "      <td>Golden Retriever</td>\n",
       "      <td>Dingo</td>\n",
       "    </tr>\n",
       "    <tr>\n",
       "      <th>1007</th>\n",
       "      <td>Borzoi</td>\n",
       "      <td>Wire-Haired Fox Terrier</td>\n",
       "      <td>English Setter</td>\n",
       "    </tr>\n",
       "    <tr>\n",
       "      <th>472</th>\n",
       "      <td>Labrador Retriever</td>\n",
       "      <td>Great Dane</td>\n",
       "      <td>Staffordshire Bullterrier</td>\n",
       "    </tr>\n",
       "    <tr>\n",
       "      <th>878</th>\n",
       "      <td>Pug</td>\n",
       "      <td>Pekinese</td>\n",
       "      <td>Sunglasses</td>\n",
       "    </tr>\n",
       "    <tr>\n",
       "      <th>1009</th>\n",
       "      <td>Labrador Retriever</td>\n",
       "      <td>Pomeranian</td>\n",
       "      <td>Golden Retriever</td>\n",
       "    </tr>\n",
       "    <tr>\n",
       "      <th>753</th>\n",
       "      <td>Sorrel</td>\n",
       "      <td>Horse Cart</td>\n",
       "      <td>Arabian Camel</td>\n",
       "    </tr>\n",
       "    <tr>\n",
       "      <th>1341</th>\n",
       "      <td>Chesapeake Bay Retriever</td>\n",
       "      <td>Vizsla</td>\n",
       "      <td>Weimaraner</td>\n",
       "    </tr>\n",
       "    <tr>\n",
       "      <th>1240</th>\n",
       "      <td>Traffic Light</td>\n",
       "      <td>Fountain</td>\n",
       "      <td>Space Shuttle</td>\n",
       "    </tr>\n",
       "  </tbody>\n",
       "</table>\n",
       "</div>"
      ],
      "text/plain": [
       "                            p1                       p2  \\\n",
       "1703           Tibetan Mastiff          Tibetan Terrier   \n",
       "150                     Vacuum                      Pug   \n",
       "1291        Labrador Retriever         Golden Retriever   \n",
       "1007                    Borzoi  Wire-Haired Fox Terrier   \n",
       "472         Labrador Retriever               Great Dane   \n",
       "878                        Pug                 Pekinese   \n",
       "1009        Labrador Retriever               Pomeranian   \n",
       "753                     Sorrel               Horse Cart   \n",
       "1341  Chesapeake Bay Retriever                   Vizsla   \n",
       "1240             Traffic Light                 Fountain   \n",
       "\n",
       "                             p3  \n",
       "1703                 Otterhound  \n",
       "150               Toilet Tissue  \n",
       "1291                      Dingo  \n",
       "1007             English Setter  \n",
       "472   Staffordshire Bullterrier  \n",
       "878                  Sunglasses  \n",
       "1009           Golden Retriever  \n",
       "753               Arabian Camel  \n",
       "1341                 Weimaraner  \n",
       "1240              Space Shuttle  "
      ]
     },
     "execution_count": 72,
     "metadata": {},
     "output_type": "execute_result"
    }
   ],
   "source": [
    "# We can see the first letters have been capitalised\n",
    "img_pred_df_clean.loc[:, ['p1','p2','p3']].sample(10)"
   ]
  },
  {
   "cell_type": "markdown",
   "metadata": {},
   "source": [
    "## Quality Issue #8"
   ]
  },
  {
   "cell_type": "markdown",
   "metadata": {},
   "source": [
    "### Define"
   ]
  },
  {
   "cell_type": "markdown",
   "metadata": {},
   "source": [
    "To rename confusing variable headers "
   ]
  },
  {
   "cell_type": "markdown",
   "metadata": {},
   "source": [
    "### Code "
   ]
  },
  {
   "cell_type": "code",
   "execution_count": 73,
   "metadata": {},
   "outputs": [],
   "source": [
    "# Rename the current variables\n",
    "img_pred_df_clean = img_pred_df_clean.rename(columns={'jpg_url': 'image_url', 'img_num': 'image_number', \n",
    "                                                      'p1':'first_prediction', 'p1_conf':'first_pred_confidence', \n",
    "                                                      'p1_dog':'first_pred_is_dog',\n",
    "                                                      'p2':'second_prediction', 'p2_conf':'second_pred_confidence', \n",
    "                                                      'p2_dog':'second_pred_is_dog',\n",
    "                                                      'p3':'third_prediction', 'p3_conf':'third_pred_confidence', \n",
    "                                                      'p3_dog':'third_pred_is_dog'\n",
    "                                                     })"
   ]
  },
  {
   "cell_type": "code",
   "execution_count": 74,
   "metadata": {},
   "outputs": [
    {
     "name": "stdout",
     "output_type": "stream",
     "text": [
      "<class 'pandas.core.frame.DataFrame'>\n",
      "RangeIndex: 2075 entries, 0 to 2074\n",
      "Data columns (total 12 columns):\n",
      "tweet_id                  2075 non-null object\n",
      "image_url                 2075 non-null object\n",
      "image_number              2075 non-null int64\n",
      "first_prediction          2075 non-null object\n",
      "first_pred_confidence     2075 non-null float64\n",
      "first_pred_is_dog         2075 non-null bool\n",
      "second_prediction         2075 non-null object\n",
      "second_pred_confidence    2075 non-null float64\n",
      "second_pred_is_dog        2075 non-null bool\n",
      "third_prediction          2075 non-null object\n",
      "third_pred_confidence     2075 non-null float64\n",
      "third_pred_is_dog         2075 non-null bool\n",
      "dtypes: bool(3), float64(3), int64(1), object(5)\n",
      "memory usage: 152.1+ KB\n"
     ]
    }
   ],
   "source": [
    "# Variable names are now easier to read and understand\n",
    "img_pred_df_clean.info()"
   ]
  },
  {
   "cell_type": "markdown",
   "metadata": {},
   "source": [
    "## Quality Issue #9"
   ]
  },
  {
   "cell_type": "markdown",
   "metadata": {},
   "source": [
    "### Define "
   ]
  },
  {
   "cell_type": "markdown",
   "metadata": {},
   "source": [
    "Remove 13 duplications of Twitter ID '892420643555336193'"
   ]
  },
  {
   "cell_type": "markdown",
   "metadata": {},
   "source": [
    "### Code"
   ]
  },
  {
   "cell_type": "code",
   "execution_count": 75,
   "metadata": {},
   "outputs": [],
   "source": [
    "# Remove the duplicated Twitter ID by using drop_duplicates\n",
    "remove_dup_tweet_id = tweet_json.drop_duplicates(subset='tweet_id')"
   ]
  },
  {
   "cell_type": "markdown",
   "metadata": {},
   "source": [
    "### Test "
   ]
  },
  {
   "cell_type": "code",
   "execution_count": 76,
   "metadata": {},
   "outputs": [
    {
     "data": {
      "text/html": [
       "<div>\n",
       "<style scoped>\n",
       "    .dataframe tbody tr th:only-of-type {\n",
       "        vertical-align: middle;\n",
       "    }\n",
       "\n",
       "    .dataframe tbody tr th {\n",
       "        vertical-align: top;\n",
       "    }\n",
       "\n",
       "    .dataframe thead th {\n",
       "        text-align: right;\n",
       "    }\n",
       "</style>\n",
       "<table border=\"1\" class=\"dataframe\">\n",
       "  <thead>\n",
       "    <tr style=\"text-align: right;\">\n",
       "      <th></th>\n",
       "      <th>tweet_id</th>\n",
       "      <th>favorite_count</th>\n",
       "      <th>retweet_count</th>\n",
       "    </tr>\n",
       "  </thead>\n",
       "  <tbody>\n",
       "    <tr>\n",
       "      <th>2342</th>\n",
       "      <td>892420643555336193</td>\n",
       "      <td>38585</td>\n",
       "      <td>8529</td>\n",
       "    </tr>\n",
       "  </tbody>\n",
       "</table>\n",
       "</div>"
      ],
      "text/plain": [
       "                tweet_id  favorite_count  retweet_count\n",
       "2342  892420643555336193           38585           8529"
      ]
     },
     "execution_count": 76,
     "metadata": {},
     "output_type": "execute_result"
    }
   ],
   "source": [
    "# The duplicated entries have been removed \n",
    "remove_dup_tweet_id[remove_dup_tweet_id['tweet_id']==892420643555336193]"
   ]
  },
  {
   "cell_type": "markdown",
   "metadata": {},
   "source": [
    "\n"
   ]
  },
  {
   "cell_type": "markdown",
   "metadata": {},
   "source": [
    "## Tidyness Issue #1: "
   ]
  },
  {
   "cell_type": "markdown",
   "metadata": {},
   "source": [
    "### Define "
   ]
  },
  {
   "cell_type": "markdown",
   "metadata": {},
   "source": [
    "Melt the twitter_archive dataframe and have only one column instead of 4 ('doggo', 'floofer' ,'pupper' and 'puppo')"
   ]
  },
  {
   "cell_type": "markdown",
   "metadata": {},
   "source": [
    "### Code"
   ]
  },
  {
   "cell_type": "code",
   "execution_count": 77,
   "metadata": {},
   "outputs": [],
   "source": [
    "# Use Pandas Melt and combine the 4 variables('doggo', 'floofer' ,'pupper' and 'puppo') into one ('dog_stage')\n",
    "twitter_archive_clean = pd.melt(twitter_archive_clean, id_vars=['tweet_id', \n",
    "                                                                'timestamp', \n",
    "                                                                'source', \n",
    "                                                                'text', \n",
    "                                                                'expanded_urls',\n",
    "                                                                'rating_numerator', \n",
    "                                                                'rating_denominator', \n",
    "                                                                'name']                                                              \n",
    "                                                               ,value_name='dog_stage')"
   ]
  },
  {
   "cell_type": "code",
   "execution_count": 78,
   "metadata": {},
   "outputs": [
    {
     "name": "stdout",
     "output_type": "stream",
     "text": [
      "                tweet_id   timestamp              source  \\\n",
      "3789  811985624773361665  2016-12-22  Twitter for iPhone   \n",
      "4006  849051919805034497  2017-04-04  Twitter for iPhone   \n",
      "8200  850380195714523136  2017-04-07  Twitter for iPhone   \n",
      "4685  675891555769696257  2015-12-13  Twitter for iPhone   \n",
      "7821  782598640137187329  2016-10-02  Twitter for iPhone   \n",
      "\n",
      "                                                   text  \\\n",
      "3789  Say hello to Ted. He accidentally opened the f...   \n",
      "4006  This is Kevin. Kevin doesn't give a single h*c...   \n",
      "8200  This is Leo. He's a personal triathlon coach. ...   \n",
      "4685  This is Donny. He's summoning the demon monste...   \n",
      "7821  This is Timmy. He's quite large. According to ...   \n",
      "\n",
      "                                          expanded_urls  rating_numerator  \\\n",
      "3789  https://twitter.com/dog_rates/status/811985624...              11.0   \n",
      "4006  https://twitter.com/dog_rates/status/849051919...              13.0   \n",
      "8200  https://twitter.com/dog_rates/status/850380195...              13.0   \n",
      "4685  https://twitter.com/dog_rates/status/675891555...               6.0   \n",
      "7821  https://twitter.com/dog_rates/status/782598640...              11.0   \n",
      "\n",
      "      rating_denominator   name variable dog_stage  \n",
      "3789                10.0    Ted  floofer      None  \n",
      "4006                10.0  Kevin  floofer      None  \n",
      "8200                10.0    Leo    puppo      None  \n",
      "4685                10.0  Donny   pupper      None  \n",
      "7821                10.0  Timmy    puppo      None  \n"
     ]
    }
   ],
   "source": [
    "print(twitter_archive_clean.sample(5))"
   ]
  },
  {
   "cell_type": "code",
   "execution_count": 79,
   "metadata": {},
   "outputs": [],
   "source": [
    "# Drop 'variable' as it is no longer needed\n",
    "twitter_archive_clean = twitter_archive_clean.drop('variable', axis=1)"
   ]
  },
  {
   "cell_type": "code",
   "execution_count": 80,
   "metadata": {},
   "outputs": [],
   "source": [
    "# Sort values by 'dog_stage'\n",
    "twitter_archive_clean = twitter_archive_clean.sort_values('dog_stage')"
   ]
  },
  {
   "cell_type": "code",
   "execution_count": 81,
   "metadata": {},
   "outputs": [],
   "source": [
    "# Remove duplicates by 'tweet_id'\n",
    "twitter_archive_clean = twitter_archive_clean.drop_duplicates('tweet_id', keep='last')"
   ]
  },
  {
   "cell_type": "code",
   "execution_count": 82,
   "metadata": {},
   "outputs": [],
   "source": [
    "# Convert the variable 'dog_stage' into a category \n",
    "twitter_archive_clean['dog_stage'] = twitter_archive_clean['dog_stage'].astype('category')"
   ]
  },
  {
   "cell_type": "markdown",
   "metadata": {},
   "source": [
    "### Test "
   ]
  },
  {
   "cell_type": "code",
   "execution_count": 83,
   "metadata": {},
   "outputs": [
    {
     "name": "stdout",
     "output_type": "stream",
     "text": [
      "<class 'pandas.core.frame.DataFrame'>\n",
      "Int64Index: 1991 entries, 2015 to 8354\n",
      "Data columns (total 9 columns):\n",
      "tweet_id              1990 non-null object\n",
      "timestamp             1990 non-null object\n",
      "source                1990 non-null object\n",
      "text                  1990 non-null object\n",
      "expanded_urls         1990 non-null object\n",
      "rating_numerator      1990 non-null float64\n",
      "rating_denominator    1990 non-null float64\n",
      "name                  1990 non-null object\n",
      "dog_stage             1990 non-null category\n",
      "dtypes: category(1), float64(2), object(6)\n",
      "memory usage: 142.1+ KB\n"
     ]
    }
   ],
   "source": [
    "# The variables 'doggo', 'floofer' ,'pupper' and 'puppo' have now been removed and 'dog_stage' is created\n",
    "twitter_archive_clean.info()"
   ]
  },
  {
   "cell_type": "code",
   "execution_count": 84,
   "metadata": {},
   "outputs": [
    {
     "data": {
      "text/plain": [
       "1991"
      ]
     },
     "execution_count": 84,
     "metadata": {},
     "output_type": "execute_result"
    }
   ],
   "source": [
    "len(twitter_archive_clean[twitter_archive_clean['dog_stage'] != None])"
   ]
  },
  {
   "cell_type": "code",
   "execution_count": 85,
   "metadata": {},
   "outputs": [
    {
     "data": {
      "text/plain": [
       "None       1669\n",
       "pupper      217\n",
       "doggo        70\n",
       "puppo        24\n",
       "floofer      10\n",
       "Name: dog_stage, dtype: int64"
      ]
     },
     "execution_count": 85,
     "metadata": {},
     "output_type": "execute_result"
    }
   ],
   "source": [
    "twitter_archive_clean['dog_stage'].value_counts()"
   ]
  },
  {
   "cell_type": "markdown",
   "metadata": {},
   "source": [
    "## Tidyness Issue #2: "
   ]
  },
  {
   "cell_type": "markdown",
   "metadata": {},
   "source": [
    "### Define "
   ]
  },
  {
   "cell_type": "markdown",
   "metadata": {},
   "source": [
    "Consolidate and merge the 3 datasets: twitter_archive, img_pred_df and tweet_json into one as they are describing the same tweet"
   ]
  },
  {
   "cell_type": "markdown",
   "metadata": {},
   "source": [
    "### Code"
   ]
  },
  {
   "cell_type": "code",
   "execution_count": 86,
   "metadata": {},
   "outputs": [],
   "source": [
    "# Merge twitter_archive_clean and img_pred_df_clean to create a new dataframe 'archive_img_df'\n",
    "archive_img_df = pd.merge(twitter_archive_clean, img_pred_df_clean, on=['tweet_id'], how='inner')\n",
    "\n",
    "# Consolidate all 3 tables and create a new dataframe 'twitter_final_df'\n",
    "twitter_final_df = pd.merge(archive_img_df, tweet_json_clean, on=['tweet_id'], how='left')"
   ]
  },
  {
   "cell_type": "markdown",
   "metadata": {},
   "source": [
    "### Test "
   ]
  },
  {
   "cell_type": "code",
   "execution_count": 87,
   "metadata": {},
   "outputs": [
    {
     "name": "stdout",
     "output_type": "stream",
     "text": [
      "<class 'pandas.core.frame.DataFrame'>\n",
      "Int64Index: 1886 entries, 0 to 1885\n",
      "Data columns (total 22 columns):\n",
      "tweet_id                  1886 non-null object\n",
      "timestamp                 1886 non-null object\n",
      "source                    1886 non-null object\n",
      "text                      1886 non-null object\n",
      "expanded_urls             1886 non-null object\n",
      "rating_numerator          1886 non-null float64\n",
      "rating_denominator        1886 non-null float64\n",
      "name                      1886 non-null object\n",
      "dog_stage                 1886 non-null category\n",
      "image_url                 1886 non-null object\n",
      "image_number              1886 non-null int64\n",
      "first_prediction          1886 non-null object\n",
      "first_pred_confidence     1886 non-null float64\n",
      "first_pred_is_dog         1886 non-null bool\n",
      "second_prediction         1886 non-null object\n",
      "second_pred_confidence    1886 non-null float64\n",
      "second_pred_is_dog        1886 non-null bool\n",
      "third_prediction          1886 non-null object\n",
      "third_pred_confidence     1886 non-null float64\n",
      "third_pred_is_dog         1886 non-null bool\n",
      "favorite_count            1885 non-null float64\n",
      "retweet_count             1885 non-null float64\n",
      "dtypes: bool(3), category(1), float64(7), int64(1), object(10)\n",
      "memory usage: 287.5+ KB\n"
     ]
    }
   ],
   "source": [
    "# All 3 tables' variables are in one dataframe under twitter_final_df \n",
    "twitter_final_df.info()"
   ]
  },
  {
   "cell_type": "markdown",
   "metadata": {},
   "source": [
    "## Store "
   ]
  },
  {
   "cell_type": "markdown",
   "metadata": {},
   "source": [
    "# Data Analysis and Visualisation "
   ]
  },
  {
   "cell_type": "code",
   "execution_count": 88,
   "metadata": {},
   "outputs": [],
   "source": [
    "# Store the dataset into a csv file\n",
    "twitter_final_df.to_csv('twitter_final_df.csv', encoding='utf-8')"
   ]
  },
  {
   "cell_type": "markdown",
   "metadata": {},
   "source": [
    "## Analysis #1\n",
    "\n",
    "#### Top 10 Most Popular Dog Breeds "
   ]
  },
  {
   "cell_type": "code",
   "execution_count": 89,
   "metadata": {},
   "outputs": [],
   "source": [
    "# To filter out entries that are not identified as dogs\n",
    "dog_breed = twitter_final_df[twitter_final_df['first_pred_is_dog']==True]"
   ]
  },
  {
   "cell_type": "code",
   "execution_count": 97,
   "metadata": {},
   "outputs": [
    {
     "data": {
      "image/png": "[encoded data removed]",
      "text/plain": [
       "<Figure size 432x288 with 2 Axes>"
      ]
     },
     "metadata": {},
     "output_type": "display_data"
    }
   ],
   "source": [
    "# Create a subplot to show 2 plots: plot 1 - number of favourite tweets and plot 2: number of retweets\n",
    "\n",
    "plt.subplot(1,2,1)\n",
    "# Show the top 10 dog breeds based on favourite tweets by using Groupby on variable `first_prediction` \n",
    "top10breed_fav_counts = dog_breed.groupby(['first_prediction'])['favorite_count'].sum()\n",
    "# Sort it in descending order \n",
    "top10breed_fav_counts = top10breed_fav_counts.sort_values(ascending=False)[:10]\n",
    "# Divide by 1000 to make it easier for people to view \n",
    "top10breed_fav_counts = top10breed_fav_counts/1000\n",
    "# Remove decimal points by converting it to an integer  \n",
    "top10breed_fav_counts = top10breed_fav_counts.astype(int)\n",
    "\n",
    "# Create a bar chart based on top10breed_fav_counts by using seaborn library \n",
    "ax = top10breed_fav_counts.reset_index().pipe((sns.barplot, 'data'),\n",
    "x = 'first_prediction', y='favorite_count', palette='pastel')\n",
    "plt.xticks(rotation=90)\n",
    "plt.ylabel('Number of Favorites (000)')\n",
    "plt.xlabel('Dog Breed')\n",
    "plt.title('Top 10 Breeds by Favourite Count')\n",
    "\n",
    "plt.subplot(1,2,2)\n",
    "# Show the top 10 dog breeds based on retweets by using Groupby on variable `first_prediction` \n",
    "top10breed_retweet_counts = dog_breed.groupby(['first_prediction'])['retweet_count'].sum()\n",
    "# Sort it in descending order \n",
    "top10breed_retweet_counts = top10breed_retweet_counts.sort_values(ascending=False)[:10]\n",
    "# Divide by 1000 to make it easier for people to view \n",
    "top10breed_retweet_counts = top10breed_retweet_counts/1000\n",
    "# Remove decimal points by converting it to an integer  \n",
    "top10breed_retweet_counts = top10breed_retweet_counts.astype(int)\n",
    "\n",
    "# Create a bar chart based on top10breed_retweet_counts by using seaborn library \n",
    "ax = top10breed_retweet_counts.reset_index().pipe((sns.barplot, 'data'),\n",
    "x = 'first_prediction', y='retweet_count', palette='pastel')\n",
    "plt.xticks(rotation=90)\n",
    "plt.ylabel('Number of Retweets (000)')\n",
    "plt.xlabel('Dog Breed')\n",
    "plt.title('Top 10 Breeds by Retweet Count')\n",
    "\n",
    "plt.tight_layout()\n",
    "plt.show()"
   ]
  },
  {
   "cell_type": "markdown",
   "metadata": {},
   "source": [
    "## Analysis #2 "
   ]
  },
  {
   "cell_type": "code",
   "execution_count": 91,
   "metadata": {},
   "outputs": [],
   "source": [
    "# Set the index to datetime using the variable `timestamp`\n",
    "twitter_final_df.set_index('timestamp', inplace=True)"
   ]
  },
  {
   "cell_type": "code",
   "execution_count": 92,
   "metadata": {},
   "outputs": [
    {
     "data": {
      "image/png": "[encoded data removed]",
      "text/plain": [
       "<Figure size 432x288 with 1 Axes>"
      ]
     },
     "metadata": {},
     "output_type": "display_data"
    }
   ],
   "source": [
    "# To create a timeline for the number favourite tweets and retweets in order to find out the popularity of WeRateDogs  \n",
    "\n",
    "# To make it easier for people read the labels by removing the the 3 zeros \n",
    "y_time = [20000, 40000, 60000, 80000, 100000, 120000, 140000]\n",
    "y_time_labels = [20, 40, 60, 80, 100, 120, 140]\n",
    "\n",
    "# Create a line plot using favourite count and retweet count using colours 'orange' and 'blue'\n",
    "twitter_final_df[['favorite_count', 'retweet_count']].plot(color=['orange', 'blue'])\n",
    "plt.title('Favorites and Retweets with Time')\n",
    "plt.xlabel('Timeline')\n",
    "plt.yticks(y_time, y_time_labels)\n",
    "plt.xticks(rotation=75)\n",
    "plt.ylabel('Number of Favourites/Retweets(000)')\n",
    "\n",
    "plt.tight_layout()\n",
    "plt.show()"
   ]
  },
  {
   "cell_type": "markdown",
   "metadata": {},
   "source": [
    "## Analysis #3"
   ]
  },
  {
   "cell_type": "code",
   "execution_count": 93,
   "metadata": {
    "scrolled": true
   },
   "outputs": [
    {
     "data": {
      "image/png": "[encoded data removed]",
      "text/plain": [
       "<Figure size 432x288 with 2 Axes>"
      ]
     },
     "metadata": {},
     "output_type": "display_data"
    }
   ],
   "source": [
    "# Create a subplot to show 2 plots based on number of favourite tweets and retweets associating with variable `source`\n",
    "\n",
    "plt.subplot(1,2,1)\n",
    "# Create a boxplot on `favourite count` and `source`\n",
    "sns.boxplot(data=twitter_final_df, x='source',y='favorite_count', palette='pastel')\n",
    "plt.title('Favourite Tweets by Source')\n",
    "plt.xticks(rotation=75)\n",
    "plt.xlabel('Source')\n",
    "plt.ylabel('Number of Favourite Tweets')\n",
    "# Limiting the number of favourite counts to 3,000 to make it easier to view \n",
    "plt.ylim(0,30000)\n",
    "\n",
    "plt.subplot(1,2,2)\n",
    "# Create a boxplot on `retweet count` and `source`\n",
    "sns.boxplot(data=twitter_final_df, x='source', y='retweet_count', palette='pastel')\n",
    "plt.title('Retweets by Source')\n",
    "plt.xticks(rotation=75)\n",
    "plt.xlabel('Source')\n",
    "plt.ylabel('Number of Retweets')\n",
    "# Limiting the number of retweet counts to 8,000 to make it easier to view \n",
    "plt.ylim(0,8000)\n",
    "\n",
    "plt.tight_layout()\n",
    "plt.show()"
   ]
  },
  {
   "cell_type": "markdown",
   "metadata": {},
   "source": [
    "## Analysis #4"
   ]
  },
  {
   "cell_type": "code",
   "execution_count": 94,
   "metadata": {},
   "outputs": [
    {
     "data": {
      "image/png": "[encoded data removed]",
      "text/plain": [
       "<Figure size 360x360 with 1 Axes>"
      ]
     },
     "metadata": {},
     "output_type": "display_data"
    }
   ],
   "source": [
    "# To show the relationship between favourite tweets amd retweets\n",
    "\n",
    "# Remove the 3 zeros to make it easier to view \n",
    "x = [20000, 40000, 60000, 80000, 100000, 120000, 140000]\n",
    "y = [20000, 40000, 60000, 80000]\n",
    "labels = [20, 40, 60, 80, 100, 120, 140]\n",
    "\n",
    "# Show only the specified the categories of the dog stages \n",
    "hue_order = ['pupper', 'doggo', 'puppo', 'floofer']\n",
    "\n",
    "# Create a scatter plot and show relationship between 2 variables and show a line of best fit using the colour 'red'\n",
    "sns.lmplot(data=twitter_final_df, x='favorite_count', y='retweet_count',line_kws={'color': 'red'})\n",
    "plt.xticks(x, labels)\n",
    "plt.yticks(y, labels)\n",
    "plt.xlabel('Favourite Count(000)')\n",
    "plt.ylabel('Retweet Count(000)')\n",
    "plt.title('Favourites vs. Retweets')\n",
    "\n",
    "plt.tight_layout()\n",
    "plt.show()"
   ]
  },
  {
   "cell_type": "code",
   "execution_count": 95,
   "metadata": {},
   "outputs": [
    {
     "data": {
      "image/png": "[encoded data removed]",
      "text/plain": [
       "<Figure size 427x360 with 1 Axes>"
      ]
     },
     "metadata": {},
     "output_type": "display_data"
    }
   ],
   "source": [
    "# To investigate further by adding another variable for analysis \n",
    "\n",
    "x = [20000, 40000, 60000, 80000, 100000, 120000, 140000]\n",
    "y = [20000, 40000, 60000, 80000]\n",
    "labels = [20, 40, 60, 80, 100, 120, 140]\n",
    "hue_order = ['pupper', 'doggo', 'puppo', 'floofer']\n",
    "\n",
    "# Using variable `dog_stage` to findout the spread of each dog stage\n",
    "sns.lmplot(data=twitter_final_df, x='favorite_count', y='retweet_count', \n",
    "           hue='dog_stage', hue_order= hue_order)\n",
    "\n",
    "plt.title('Favourites vs. Retweets by Dog Stage')\n",
    "plt.xticks(x, labels)\n",
    "plt.xlabel('Favourite Count(000)')\n",
    "plt.ylabel('Retweet Count(000)')\n",
    "plt.yticks(y, labels)\n",
    "\n",
    "plt.show()"
   ]
  }
 ],
 "metadata": {
  "kernelspec": {
   "display_name": "Python 3",
   "language": "python",
   "name": "python3"
  },
  "language_info": {
   "codemirror_mode": {
    "name": "ipython",
    "version": 3
   },
   "file_extension": ".py",
   "mimetype": "text/x-python",
   "name": "python",
   "nbconvert_exporter": "python",
   "pygments_lexer": "ipython3",
   "version": "3.6.5"
  }
 },
 "nbformat": 4,
 "nbformat_minor": 2
}
